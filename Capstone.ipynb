{
 "cells": [
  {
   "cell_type": "markdown",
   "metadata": {},
   "source": [
    "## Notes:\n",
    "\n",
    "Limiting scope: \n",
    "Kern County \n",
    "2010 - present"
   ]
  },
  {
   "cell_type": "markdown",
   "metadata": {},
   "source": [
    "# Library Imports"
   ]
  },
  {
   "cell_type": "code",
   "execution_count": 2,
   "metadata": {},
   "outputs": [],
   "source": [
    "import numpy as np\n",
    "import pandas as pd"
   ]
  },
  {
   "cell_type": "markdown",
   "metadata": {},
   "source": [
    "# Data Import checks"
   ]
  },
  {
   "cell_type": "markdown",
   "metadata": {},
   "source": [
    "## Drinking Water Data"
   ]
  },
  {
   "cell_type": "code",
   "execution_count": 14,
   "metadata": {},
   "outputs": [],
   "source": [
    "raw_drinkchem = pd.read_excel('./assets/Drinkingwater/chemical.xlsx')"
   ]
  },
  {
   "cell_type": "code",
   "execution_count": 15,
   "metadata": {},
   "outputs": [
    {
     "name": "stdout",
     "output_type": "stream",
     "text": [
      "(1048575, 12)\n"
     ]
    },
    {
     "data": {
      "text/html": [
       "<div>\n",
       "<style scoped>\n",
       "    .dataframe tbody tr th:only-of-type {\n",
       "        vertical-align: middle;\n",
       "    }\n",
       "\n",
       "    .dataframe tbody tr th {\n",
       "        vertical-align: top;\n",
       "    }\n",
       "\n",
       "    .dataframe thead th {\n",
       "        text-align: right;\n",
       "    }\n",
       "</style>\n",
       "<table border=\"1\" class=\"dataframe\">\n",
       "  <thead>\n",
       "    <tr style=\"text-align: right;\">\n",
       "      <th></th>\n",
       "      <th>PRIM_STA_C</th>\n",
       "      <th>SAMP_DATE</th>\n",
       "      <th>SAMP_TIME</th>\n",
       "      <th>LAB_NUM</th>\n",
       "      <th>ANADATE</th>\n",
       "      <th>INDATE</th>\n",
       "      <th>METHOD</th>\n",
       "      <th>INBY</th>\n",
       "      <th>SPECIAL</th>\n",
       "      <th>STORE_NUM</th>\n",
       "      <th>XMOD</th>\n",
       "      <th>FINDING</th>\n",
       "    </tr>\n",
       "  </thead>\n",
       "  <tbody>\n",
       "    <tr>\n",
       "      <th>0</th>\n",
       "      <td>0103039-004</td>\n",
       "      <td>2017-11-22</td>\n",
       "      <td>848</td>\n",
       "      <td>4790</td>\n",
       "      <td>2017-11-22</td>\n",
       "      <td>2017-11-30</td>\n",
       "      <td>SM 212</td>\n",
       "      <td>#</td>\n",
       "      <td>S</td>\n",
       "      <td>00081</td>\n",
       "      <td>&lt;</td>\n",
       "      <td>3.0</td>\n",
       "    </tr>\n",
       "    <tr>\n",
       "      <th>1</th>\n",
       "      <td>0103039-004</td>\n",
       "      <td>2017-11-22</td>\n",
       "      <td>848</td>\n",
       "      <td>4790</td>\n",
       "      <td>2017-11-22</td>\n",
       "      <td>2017-11-30</td>\n",
       "      <td>SM 215</td>\n",
       "      <td>#</td>\n",
       "      <td>S</td>\n",
       "      <td>00086</td>\n",
       "      <td>&lt;</td>\n",
       "      <td>1.0</td>\n",
       "    </tr>\n",
       "    <tr>\n",
       "      <th>2</th>\n",
       "      <td>0103039-004</td>\n",
       "      <td>2017-11-22</td>\n",
       "      <td>848</td>\n",
       "      <td>4790</td>\n",
       "      <td>2017-11-29</td>\n",
       "      <td>2017-11-30</td>\n",
       "      <td>SM 251</td>\n",
       "      <td>#</td>\n",
       "      <td>S</td>\n",
       "      <td>00095</td>\n",
       "      <td>NaN</td>\n",
       "      <td>550.0</td>\n",
       "    </tr>\n",
       "    <tr>\n",
       "      <th>3</th>\n",
       "      <td>0103039-004</td>\n",
       "      <td>2017-11-22</td>\n",
       "      <td>848</td>\n",
       "      <td>4790</td>\n",
       "      <td>2017-11-29</td>\n",
       "      <td>2017-11-30</td>\n",
       "      <td>SM4500</td>\n",
       "      <td>#</td>\n",
       "      <td>S</td>\n",
       "      <td>00403</td>\n",
       "      <td>NaN</td>\n",
       "      <td>8.1</td>\n",
       "    </tr>\n",
       "    <tr>\n",
       "      <th>4</th>\n",
       "      <td>0103039-004</td>\n",
       "      <td>2017-11-22</td>\n",
       "      <td>848</td>\n",
       "      <td>4790</td>\n",
       "      <td>2017-11-22</td>\n",
       "      <td>2017-11-30</td>\n",
       "      <td>300.0</td>\n",
       "      <td>#</td>\n",
       "      <td>S</td>\n",
       "      <td>00618</td>\n",
       "      <td>NaN</td>\n",
       "      <td>5.7</td>\n",
       "    </tr>\n",
       "  </tbody>\n",
       "</table>\n",
       "</div>"
      ],
      "text/plain": [
       "    PRIM_STA_C  SAMP_DATE  SAMP_TIME  LAB_NUM    ANADATE     INDATE  METHOD  \\\n",
       "0  0103039-004 2017-11-22        848     4790 2017-11-22 2017-11-30  SM 212   \n",
       "1  0103039-004 2017-11-22        848     4790 2017-11-22 2017-11-30  SM 215   \n",
       "2  0103039-004 2017-11-22        848     4790 2017-11-29 2017-11-30  SM 251   \n",
       "3  0103039-004 2017-11-22        848     4790 2017-11-29 2017-11-30  SM4500   \n",
       "4  0103039-004 2017-11-22        848     4790 2017-11-22 2017-11-30   300.0   \n",
       "\n",
       "  INBY SPECIAL STORE_NUM XMOD  FINDING  \n",
       "0    #       S     00081    <      3.0  \n",
       "1    #       S     00086    <      1.0  \n",
       "2    #       S     00095  NaN    550.0  \n",
       "3    #       S     00403  NaN      8.1  \n",
       "4    #       S     00618  NaN      5.7  "
      ]
     },
     "execution_count": 15,
     "metadata": {},
     "output_type": "execute_result"
    }
   ],
   "source": [
    "print(raw_drinkchem.shape)\n",
    "raw_drinkchem.head()"
   ]
  },
  {
   "cell_type": "code",
   "execution_count": 6,
   "metadata": {},
   "outputs": [
    {
     "data": {
      "text/plain": [
       "Index(['PRIM_STA_C', 'SAMP_DATE', 'SAMP_TIME', 'LAB_NUM', 'ANADATE', 'INDATE',\n",
       "       'METHOD', 'INBY', 'SPECIAL', 'STORE_NUM', 'XMOD', 'FINDING'],\n",
       "      dtype='object')"
      ]
     },
     "execution_count": 6,
     "metadata": {},
     "output_type": "execute_result"
    }
   ],
   "source": [
    "raw_drinkchem.columns"
   ]
  },
  {
   "cell_type": "code",
   "execution_count": 17,
   "metadata": {},
   "outputs": [
    {
     "data": {
      "text/plain": [
       "array(['0103039-004', '0103040-007', '0103041-001', ..., '1510005-031',\n",
       "       '1510005-032', '1510005-033'], dtype=object)"
      ]
     },
     "execution_count": 17,
     "metadata": {},
     "output_type": "execute_result"
    }
   ],
   "source": [
    "raw_drinkchem['PRIM_STA_C'].unique()"
   ]
  },
  {
   "cell_type": "code",
   "execution_count": 24,
   "metadata": {},
   "outputs": [],
   "source": [
    "# According to the WQM data dictionary, Kern county code is 15. So all Primary station code / source number will start with 15\n",
    "kern_sample = [sample for sample in raw_drinkchem['PRIM_STA_C'] if sample.startswith('15')]"
   ]
  },
  {
   "cell_type": "code",
   "execution_count": 26,
   "metadata": {},
   "outputs": [
    {
     "data": {
      "text/plain": [
       "196389"
      ]
     },
     "execution_count": 26,
     "metadata": {},
     "output_type": "execute_result"
    }
   ],
   "source": [
    "len(kern_sample)"
   ]
  },
  {
   "cell_type": "raw",
   "metadata": {},
   "source": [
    "What I think I want to do here is first isolate all the Kern County samples, then drop unneccesary columns like samp_time, lab_num, anadate, indate. Not sure how important inby is or what it is. Method, Special, StoreNum, Xmod, and Finding are important but will need cleaning to change from object to numerical. StoreNum requires cross-referencing from Storet dataset, which has chemical names/parameters."
   ]
  },
  {
   "cell_type": "code",
   "execution_count": null,
   "metadata": {},
   "outputs": [],
   "source": []
  },
  {
   "cell_type": "code",
   "execution_count": null,
   "metadata": {},
   "outputs": [],
   "source": []
  },
  {
   "cell_type": "code",
   "execution_count": null,
   "metadata": {},
   "outputs": [],
   "source": []
  },
  {
   "cell_type": "code",
   "execution_count": null,
   "metadata": {},
   "outputs": [],
   "source": []
  },
  {
   "cell_type": "code",
   "execution_count": null,
   "metadata": {},
   "outputs": [],
   "source": []
  },
  {
   "cell_type": "code",
   "execution_count": null,
   "metadata": {},
   "outputs": [],
   "source": []
  },
  {
   "cell_type": "code",
   "execution_count": null,
   "metadata": {},
   "outputs": [],
   "source": []
  },
  {
   "cell_type": "code",
   "execution_count": null,
   "metadata": {},
   "outputs": [],
   "source": []
  },
  {
   "cell_type": "code",
   "execution_count": null,
   "metadata": {},
   "outputs": [],
   "source": []
  },
  {
   "cell_type": "code",
   "execution_count": 41,
   "metadata": {},
   "outputs": [],
   "source": [
    "raw_drinksys = pd.read_excel('./assets/Drinkingwater/watsys.xlsx')"
   ]
  },
  {
   "cell_type": "code",
   "execution_count": 42,
   "metadata": {},
   "outputs": [
    {
     "name": "stdout",
     "output_type": "stream",
     "text": [
      "(15056, 11)\n"
     ]
    },
    {
     "data": {
      "text/html": [
       "<div>\n",
       "<style scoped>\n",
       "    .dataframe tbody tr th:only-of-type {\n",
       "        vertical-align: middle;\n",
       "    }\n",
       "\n",
       "    .dataframe tbody tr th {\n",
       "        vertical-align: top;\n",
       "    }\n",
       "\n",
       "    .dataframe thead th {\n",
       "        text-align: right;\n",
       "    }\n",
       "</style>\n",
       "<table border=\"1\" class=\"dataframe\">\n",
       "  <thead>\n",
       "    <tr style=\"text-align: right;\">\n",
       "      <th></th>\n",
       "      <th>SYSTEM_NO</th>\n",
       "      <th>SYSTEM_NAM</th>\n",
       "      <th>HQNAME</th>\n",
       "      <th>ADDRESS</th>\n",
       "      <th>CITY</th>\n",
       "      <th>STATE</th>\n",
       "      <th>ZIP</th>\n",
       "      <th>ZIP_EXT</th>\n",
       "      <th>POP_SERV</th>\n",
       "      <th>CONNECTION</th>\n",
       "      <th>AREA_SERVE</th>\n",
       "    </tr>\n",
       "  </thead>\n",
       "  <tbody>\n",
       "    <tr>\n",
       "      <th>0</th>\n",
       "      <td>2800064</td>\n",
       "      <td>DAKOTA SHY WINERY</td>\n",
       "      <td>NaN</td>\n",
       "      <td>771 Sage Canyon Road</td>\n",
       "      <td>ST. HELENA</td>\n",
       "      <td>CA</td>\n",
       "      <td>94574</td>\n",
       "      <td>NaN</td>\n",
       "      <td>30.0</td>\n",
       "      <td>1.0</td>\n",
       "      <td>NaN</td>\n",
       "    </tr>\n",
       "    <tr>\n",
       "      <th>1</th>\n",
       "      <td>5403214</td>\n",
       "      <td>NaN</td>\n",
       "      <td>THREE RIVERS HISTORICAL MUSEUM</td>\n",
       "      <td>42268 SIERRA DR</td>\n",
       "      <td>THREE RIVERS</td>\n",
       "      <td>CA</td>\n",
       "      <td>93271</td>\n",
       "      <td>NaN</td>\n",
       "      <td>25.0</td>\n",
       "      <td>2.0</td>\n",
       "      <td>NaN</td>\n",
       "    </tr>\n",
       "    <tr>\n",
       "      <th>2</th>\n",
       "      <td>4000829</td>\n",
       "      <td>VINES R.V. RESORT</td>\n",
       "      <td>NaN</td>\n",
       "      <td>88 WELLSONA</td>\n",
       "      <td>PASO RO</td>\n",
       "      <td>CA</td>\n",
       "      <td>93446</td>\n",
       "      <td>NaN</td>\n",
       "      <td>400.0</td>\n",
       "      <td>1.0</td>\n",
       "      <td>NaN</td>\n",
       "    </tr>\n",
       "    <tr>\n",
       "      <th>3</th>\n",
       "      <td>0103039</td>\n",
       "      <td>MOHRLAND MUTUAL WATER SYSTEM</td>\n",
       "      <td>MOHRLAND MUTUAL</td>\n",
       "      <td>24927 Mohr Drive</td>\n",
       "      <td>HAYWARD</td>\n",
       "      <td>CA</td>\n",
       "      <td>94545</td>\n",
       "      <td>tt</td>\n",
       "      <td>116.0</td>\n",
       "      <td>99.0</td>\n",
       "      <td>NaN</td>\n",
       "    </tr>\n",
       "    <tr>\n",
       "      <th>4</th>\n",
       "      <td>0103040</td>\n",
       "      <td>NORRIS CANYON PROPERTY OWNERS ASSN.</td>\n",
       "      <td>NORRIS CANYON P</td>\n",
       "      <td>8653 Norris Canyon Road</td>\n",
       "      <td>CASTRO VALLEY</td>\n",
       "      <td>CA</td>\n",
       "      <td>94552</td>\n",
       "      <td>S</td>\n",
       "      <td>50.0</td>\n",
       "      <td>19.0</td>\n",
       "      <td>NaN</td>\n",
       "    </tr>\n",
       "  </tbody>\n",
       "</table>\n",
       "</div>"
      ],
      "text/plain": [
       "  SYSTEM_NO                           SYSTEM_NAM  \\\n",
       "0   2800064                    DAKOTA SHY WINERY   \n",
       "1   5403214                                  NaN   \n",
       "2   4000829                    VINES R.V. RESORT   \n",
       "3   0103039         MOHRLAND MUTUAL WATER SYSTEM   \n",
       "4   0103040  NORRIS CANYON PROPERTY OWNERS ASSN.   \n",
       "\n",
       "                           HQNAME                  ADDRESS           CITY  \\\n",
       "0                             NaN     771 Sage Canyon Road     ST. HELENA   \n",
       "1  THREE RIVERS HISTORICAL MUSEUM          42268 SIERRA DR   THREE RIVERS   \n",
       "2                             NaN              88 WELLSONA        PASO RO   \n",
       "3                 MOHRLAND MUTUAL         24927 Mohr Drive        HAYWARD   \n",
       "4                 NORRIS CANYON P  8653 Norris Canyon Road  CASTRO VALLEY   \n",
       "\n",
       "  STATE    ZIP ZIP_EXT  POP_SERV  CONNECTION AREA_SERVE  \n",
       "0    CA  94574     NaN      30.0         1.0        NaN  \n",
       "1    CA  93271     NaN      25.0         2.0        NaN  \n",
       "2    CA  93446     NaN     400.0         1.0        NaN  \n",
       "3    CA  94545      tt     116.0        99.0        NaN  \n",
       "4    CA  94552       S      50.0        19.0        NaN  "
      ]
     },
     "execution_count": 42,
     "metadata": {},
     "output_type": "execute_result"
    }
   ],
   "source": [
    "print(raw_drinksys.shape)\n",
    "raw_drinksys.head()"
   ]
  },
  {
   "cell_type": "code",
   "execution_count": 37,
   "metadata": {},
   "outputs": [
    {
     "data": {
      "text/plain": [
       "array(['2800064', '5403214', '4000829', ..., '3107347', '1000644',\n",
       "       '1504009'], dtype=object)"
      ]
     },
     "execution_count": 37,
     "metadata": {},
     "output_type": "execute_result"
    }
   ],
   "source": [
    "raw_drinksys['SYSTEM_NO'].unique()"
   ]
  },
  {
   "cell_type": "code",
   "execution_count": 43,
   "metadata": {},
   "outputs": [],
   "source": [
    "kern_sys = [facility for facility in raw_drinksys['SYSTEM_NO'] if facility.startswith('15')]"
   ]
  },
  {
   "cell_type": "code",
   "execution_count": 46,
   "metadata": {},
   "outputs": [
    {
     "data": {
      "text/plain": [
       "688"
      ]
     },
     "execution_count": 46,
     "metadata": {},
     "output_type": "execute_result"
    }
   ],
   "source": [
    "len(kern_sys)"
   ]
  },
  {
   "cell_type": "code",
   "execution_count": 92,
   "metadata": {
    "collapsed": true
   },
   "outputs": [
    {
     "data": {
      "text/plain": [
       "WASTEWATER GENERATOR                       198\n",
       "Wastewater Generator                        22\n",
       "USFS-White Mountain Ranger District         10\n",
       "NC PARK RES                                  8\n",
       "Inyo County Parks & Rec                      7\n",
       "T9                                           5\n",
       "NC CMPG                                      5\n",
       "USFS-Mount Whitney Ranger District           5\n",
       "BELLFLOWER                                   4\n",
       "State of CA-Dept. of Parks & Recreation      4\n",
       "CAMARILLO                                    3\n",
       "Western MWD                                  3\n",
       "R1                                           3\n",
       "California Water Service Company             3\n",
       "EL RIO                                       3\n",
       "MONTEBELLO                                   3\n",
       "Ken Wilder                                   3\n",
       "FRESNO                                       3\n",
       "T4                                           3\n",
       "City of Hollister                            2\n",
       "Mariah s Meadow                              2\n",
       "LOS LAGOS                                    2\n",
       "GARDEN GROVE                                 2\n",
       "ALTADENA                                     2\n",
       "Green Valley Campground                      2\n",
       "Sonoma West Holdings                         2\n",
       "Robert M. Turner                             2\n",
       "City of Clovis                               2\n",
       "CAYUCOS                                      2\n",
       "RODIN LABOR CAMP                             2\n",
       "                                          ... \n",
       "PIONEER/IMPROVEMENT DIST NO. 1               1\n",
       "TRUMBULL LAKE CAMPGROUND                     1\n",
       "ALDER SPRINGS                                1\n",
       "DIXON                                        1\n",
       "IONE                                         1\n",
       "The Cottages                                 1\n",
       "Indian oaks Trailer Park                     1\n",
       "BLEICH FLATS MUTUAL                          1\n",
       "Hop Kiln Winery                              1\n",
       "CLM-COFFEE CAMP UPPER DAY USE                1\n",
       "City of Madera                               1\n",
       "SIERRA GOLF & COUNTRY CLUB                   1\n",
       "JEHOVAH'S WITNESS CHURCH SWS                 1\n",
       "HILLVIEW WC-OAKHURST/SIERRA LAKES            1\n",
       "GLEN OAKS MOBILE HOME PARK                   1\n",
       "FORSON WATER COMPANY                         1\n",
       "USFS-DEER FLATS                              1\n",
       "Wall Water                                   1\n",
       "ARCOHE ELEMENTARY SCHOOL                     1\n",
       "CAMP STEVENS                                 1\n",
       "AVILA                                        1\n",
       "SOUTHERN CAL WC - CLAREMONT                  1\n",
       "BALTIMORE AIRCOIL COMPANY                    1\n",
       "Golden State Water Company - Edna            1\n",
       "Arrowhead Medical Center                     1\n",
       "ALVINA SCHOOL                                1\n",
       "CASA MENDOZA                                 1\n",
       "SOUTHERN CAL WATER CO. - NORWALK             1\n",
       "RAINBOW'S END MOBILE HOME PARK               1\n",
       "ST VINCENT RANCH CAMP                        1\n",
       "Name: AREA_SERVE, Length: 5667, dtype: int64"
      ]
     },
     "execution_count": 92,
     "metadata": {},
     "output_type": "execute_result"
    }
   ],
   "source": [
    "raw_drinksys['AREA_SERVE'].value_counts()"
   ]
  },
  {
   "cell_type": "markdown",
   "metadata": {},
   "source": [
    "Right off I'm sure I'll need SystemNo, which is county number + sys type + sequence number, so again only need those that start with 15. If I have that I won't need system name, HQ name, address, city, state, zip, or zip ext. I could extract a really rough location from the address (lat, long). Population served is important and probably the only other important info from this table"
   ]
  },
  {
   "cell_type": "code",
   "execution_count": null,
   "metadata": {},
   "outputs": [],
   "source": []
  },
  {
   "cell_type": "code",
   "execution_count": null,
   "metadata": {},
   "outputs": [],
   "source": []
  },
  {
   "cell_type": "code",
   "execution_count": null,
   "metadata": {},
   "outputs": [],
   "source": []
  },
  {
   "cell_type": "code",
   "execution_count": null,
   "metadata": {},
   "outputs": [],
   "source": []
  },
  {
   "cell_type": "code",
   "execution_count": null,
   "metadata": {},
   "outputs": [],
   "source": []
  },
  {
   "cell_type": "code",
   "execution_count": 51,
   "metadata": {},
   "outputs": [],
   "source": [
    "raw_drinksite = pd.read_excel('./assets/Drinkingwater/siteloc.xlsx')"
   ]
  },
  {
   "cell_type": "code",
   "execution_count": 52,
   "metadata": {},
   "outputs": [
    {
     "name": "stdout",
     "output_type": "stream",
     "text": [
      "(58328, 11)\n"
     ]
    },
    {
     "data": {
      "text/html": [
       "<div>\n",
       "<style scoped>\n",
       "    .dataframe tbody tr th:only-of-type {\n",
       "        vertical-align: middle;\n",
       "    }\n",
       "\n",
       "    .dataframe tbody tr th {\n",
       "        vertical-align: top;\n",
       "    }\n",
       "\n",
       "    .dataframe thead th {\n",
       "        text-align: right;\n",
       "    }\n",
       "</style>\n",
       "<table border=\"1\" class=\"dataframe\">\n",
       "  <thead>\n",
       "    <tr style=\"text-align: right;\">\n",
       "      <th></th>\n",
       "      <th>PRI_STA_C</th>\n",
       "      <th>FRDS_NO</th>\n",
       "      <th>COUNTY</th>\n",
       "      <th>DISTRICT</th>\n",
       "      <th>USER_ID</th>\n",
       "      <th>SYSTEM_NO</th>\n",
       "      <th>WATER_TYPE</th>\n",
       "      <th>SOURCE_NAM</th>\n",
       "      <th>STATION_TY</th>\n",
       "      <th>STATUS</th>\n",
       "      <th>COMMENT_1</th>\n",
       "    </tr>\n",
       "  </thead>\n",
       "  <tbody>\n",
       "    <tr>\n",
       "      <th>0</th>\n",
       "      <td>4301014-001</td>\n",
       "      <td>4301014001</td>\n",
       "      <td>43</td>\n",
       "      <td>17</td>\n",
       "      <td>SAN</td>\n",
       "      <td>4301014</td>\n",
       "      <td>G</td>\n",
       "      <td>WELL 01 - TREATED</td>\n",
       "      <td>NaN</td>\n",
       "      <td>AT</td>\n",
       "      <td>NaN</td>\n",
       "    </tr>\n",
       "    <tr>\n",
       "      <th>1</th>\n",
       "      <td>4301014-002</td>\n",
       "      <td>4301014002</td>\n",
       "      <td>43</td>\n",
       "      <td>17</td>\n",
       "      <td>SAN</td>\n",
       "      <td>4301014</td>\n",
       "      <td>G</td>\n",
       "      <td>WELL 01- CL2 TREATMENT</td>\n",
       "      <td>NaN</td>\n",
       "      <td>DT</td>\n",
       "      <td>NaN</td>\n",
       "    </tr>\n",
       "    <tr>\n",
       "      <th>2</th>\n",
       "      <td>2300906-002</td>\n",
       "      <td>2300906002</td>\n",
       "      <td>23</td>\n",
       "      <td>3</td>\n",
       "      <td>RXR</td>\n",
       "      <td>2300906</td>\n",
       "      <td>G</td>\n",
       "      <td>DBP SAMPLE LOCATION</td>\n",
       "      <td>NaN</td>\n",
       "      <td>DT</td>\n",
       "      <td>NaN</td>\n",
       "    </tr>\n",
       "    <tr>\n",
       "      <th>3</th>\n",
       "      <td>2310006-030</td>\n",
       "      <td>2310006030</td>\n",
       "      <td>23</td>\n",
       "      <td>3</td>\n",
       "      <td>RXR</td>\n",
       "      <td>2310006</td>\n",
       "      <td>G</td>\n",
       "      <td>DBP 781 TOKAY DRIVE</td>\n",
       "      <td>NaN</td>\n",
       "      <td>DT</td>\n",
       "      <td>NaN</td>\n",
       "    </tr>\n",
       "    <tr>\n",
       "      <th>4</th>\n",
       "      <td>2300955-001</td>\n",
       "      <td>2300955001</td>\n",
       "      <td>23</td>\n",
       "      <td>3</td>\n",
       "      <td>RXR</td>\n",
       "      <td>2300955</td>\n",
       "      <td>G</td>\n",
       "      <td>WELL 01</td>\n",
       "      <td>NaN</td>\n",
       "      <td>AR</td>\n",
       "      <td>NaN</td>\n",
       "    </tr>\n",
       "  </tbody>\n",
       "</table>\n",
       "</div>"
      ],
      "text/plain": [
       "     PRI_STA_C     FRDS_NO  COUNTY  DISTRICT USER_ID  SYSTEM_NO WATER_TYPE  \\\n",
       "0  4301014-001  4301014001      43        17     SAN    4301014          G   \n",
       "1  4301014-002  4301014002      43        17     SAN    4301014          G   \n",
       "2  2300906-002  2300906002      23         3     RXR    2300906          G   \n",
       "3  2310006-030  2310006030      23         3     RXR    2310006          G   \n",
       "4  2300955-001  2300955001      23         3     RXR    2300955          G   \n",
       "\n",
       "               SOURCE_NAM STATION_TY STATUS COMMENT_1  \n",
       "0       WELL 01 - TREATED        NaN     AT       NaN  \n",
       "1  WELL 01- CL2 TREATMENT        NaN     DT       NaN  \n",
       "2     DBP SAMPLE LOCATION        NaN     DT       NaN  \n",
       "3     DBP 781 TOKAY DRIVE        NaN     DT       NaN  \n",
       "4                 WELL 01        NaN     AR       NaN  "
      ]
     },
     "execution_count": 52,
     "metadata": {},
     "output_type": "execute_result"
    }
   ],
   "source": [
    "print(raw_drinksite.shape)\n",
    "raw_drinksite.head()"
   ]
  },
  {
   "cell_type": "code",
   "execution_count": 55,
   "metadata": {},
   "outputs": [],
   "source": [
    "kern_sites = raw_drinksite[raw_drinksite['COUNTY'] == 15]"
   ]
  },
  {
   "cell_type": "code",
   "execution_count": 56,
   "metadata": {},
   "outputs": [
    {
     "data": {
      "text/plain": [
       "3241"
      ]
     },
     "execution_count": 56,
     "metadata": {},
     "output_type": "execute_result"
    }
   ],
   "source": [
    "len(kern_sites)"
   ]
  },
  {
   "cell_type": "code",
   "execution_count": 58,
   "metadata": {},
   "outputs": [
    {
     "data": {
      "text/html": [
       "<div>\n",
       "<style scoped>\n",
       "    .dataframe tbody tr th:only-of-type {\n",
       "        vertical-align: middle;\n",
       "    }\n",
       "\n",
       "    .dataframe tbody tr th {\n",
       "        vertical-align: top;\n",
       "    }\n",
       "\n",
       "    .dataframe thead th {\n",
       "        text-align: right;\n",
       "    }\n",
       "</style>\n",
       "<table border=\"1\" class=\"dataframe\">\n",
       "  <thead>\n",
       "    <tr style=\"text-align: right;\">\n",
       "      <th></th>\n",
       "      <th>PRI_STA_C</th>\n",
       "      <th>FRDS_NO</th>\n",
       "      <th>COUNTY</th>\n",
       "      <th>DISTRICT</th>\n",
       "      <th>USER_ID</th>\n",
       "      <th>SYSTEM_NO</th>\n",
       "      <th>WATER_TYPE</th>\n",
       "      <th>SOURCE_NAM</th>\n",
       "      <th>STATION_TY</th>\n",
       "      <th>STATUS</th>\n",
       "      <th>COMMENT_1</th>\n",
       "    </tr>\n",
       "  </thead>\n",
       "  <tbody>\n",
       "    <tr>\n",
       "      <th>31</th>\n",
       "      <td>1503226-004</td>\n",
       "      <td>1503226004</td>\n",
       "      <td>15</td>\n",
       "      <td>19</td>\n",
       "      <td>TEH</td>\n",
       "      <td>1503226</td>\n",
       "      <td>G</td>\n",
       "      <td>WELL 01- UMTALI WELL CL2 TREATMENT XCLD</td>\n",
       "      <td>NaN</td>\n",
       "      <td>AT</td>\n",
       "      <td>NaN</td>\n",
       "    </tr>\n",
       "    <tr>\n",
       "      <th>32</th>\n",
       "      <td>1503226-005</td>\n",
       "      <td>1503226005</td>\n",
       "      <td>15</td>\n",
       "      <td>19</td>\n",
       "      <td>TEH</td>\n",
       "      <td>1503226</td>\n",
       "      <td>G</td>\n",
       "      <td>WELL 02- MONTCLAIRE WELL CL2 TREATMENT</td>\n",
       "      <td>NaN</td>\n",
       "      <td>AT</td>\n",
       "      <td>NaN</td>\n",
       "    </tr>\n",
       "    <tr>\n",
       "      <th>33</th>\n",
       "      <td>1503226-901</td>\n",
       "      <td>1503226901</td>\n",
       "      <td>15</td>\n",
       "      <td>19</td>\n",
       "      <td>TEH</td>\n",
       "      <td>1503226</td>\n",
       "      <td>G</td>\n",
       "      <td>ST2S1- COUNTRY CANYON &amp; UMTALI SAMPLE ST</td>\n",
       "      <td>NaN</td>\n",
       "      <td>DT</td>\n",
       "      <td>NaN</td>\n",
       "    </tr>\n",
       "    <tr>\n",
       "      <th>73</th>\n",
       "      <td>1503576-005</td>\n",
       "      <td>1503576005</td>\n",
       "      <td>15</td>\n",
       "      <td>19</td>\n",
       "      <td>TEH</td>\n",
       "      <td>1503576</td>\n",
       "      <td>G</td>\n",
       "      <td>WELL 02</td>\n",
       "      <td>NaN</td>\n",
       "      <td>AR</td>\n",
       "      <td>NaN</td>\n",
       "    </tr>\n",
       "    <tr>\n",
       "      <th>93</th>\n",
       "      <td>1504009-001</td>\n",
       "      <td>1504009001</td>\n",
       "      <td>15</td>\n",
       "      <td>12</td>\n",
       "      <td>CYA</td>\n",
       "      <td>1504009</td>\n",
       "      <td>G</td>\n",
       "      <td>WELL 001</td>\n",
       "      <td>NaN</td>\n",
       "      <td>AR</td>\n",
       "      <td>NaN</td>\n",
       "    </tr>\n",
       "    <tr>\n",
       "      <th>94</th>\n",
       "      <td>1510055-038</td>\n",
       "      <td>1510055038</td>\n",
       "      <td>15</td>\n",
       "      <td>12</td>\n",
       "      <td>CYA</td>\n",
       "      <td>1510055</td>\n",
       "      <td>G</td>\n",
       "      <td>WELL 201-01 - GAC_EFF-TCP &amp; H2S</td>\n",
       "      <td>NaN</td>\n",
       "      <td>DT</td>\n",
       "      <td>NaN</td>\n",
       "    </tr>\n",
       "    <tr>\n",
       "      <th>183</th>\n",
       "      <td>1503684-001</td>\n",
       "      <td>1503684001</td>\n",
       "      <td>15</td>\n",
       "      <td>19</td>\n",
       "      <td>CYA</td>\n",
       "      <td>1503684</td>\n",
       "      <td>G</td>\n",
       "      <td>WELL 01</td>\n",
       "      <td>NaN</td>\n",
       "      <td>AR</td>\n",
       "      <td>NaN</td>\n",
       "    </tr>\n",
       "    <tr>\n",
       "      <th>193</th>\n",
       "      <td>1510028-014</td>\n",
       "      <td>1510028014</td>\n",
       "      <td>15</td>\n",
       "      <td>19</td>\n",
       "      <td>TEH</td>\n",
       "      <td>1510025</td>\n",
       "      <td>G</td>\n",
       "      <td>WELL 09</td>\n",
       "      <td>NaN</td>\n",
       "      <td>AR</td>\n",
       "      <td>NaN</td>\n",
       "    </tr>\n",
       "    <tr>\n",
       "      <th>194</th>\n",
       "      <td>1510028-015</td>\n",
       "      <td>1510028015</td>\n",
       "      <td>15</td>\n",
       "      <td>19</td>\n",
       "      <td>TEH</td>\n",
       "      <td>1510028</td>\n",
       "      <td>G</td>\n",
       "      <td>WELL 10</td>\n",
       "      <td>NaN</td>\n",
       "      <td>AR</td>\n",
       "      <td>NaN</td>\n",
       "    </tr>\n",
       "    <tr>\n",
       "      <th>196</th>\n",
       "      <td>1510003-267</td>\n",
       "      <td>1510003267</td>\n",
       "      <td>15</td>\n",
       "      <td>12</td>\n",
       "      <td>CYA</td>\n",
       "      <td>1510003</td>\n",
       "      <td>G</td>\n",
       "      <td>WELL 202-01 - AS-TRT</td>\n",
       "      <td>NaN</td>\n",
       "      <td>AT</td>\n",
       "      <td>NaN</td>\n",
       "    </tr>\n",
       "  </tbody>\n",
       "</table>\n",
       "</div>"
      ],
      "text/plain": [
       "       PRI_STA_C     FRDS_NO  COUNTY  DISTRICT USER_ID  SYSTEM_NO WATER_TYPE  \\\n",
       "31   1503226-004  1503226004      15        19     TEH    1503226          G   \n",
       "32   1503226-005  1503226005      15        19     TEH    1503226          G   \n",
       "33   1503226-901  1503226901      15        19     TEH    1503226          G   \n",
       "73   1503576-005  1503576005      15        19     TEH    1503576          G   \n",
       "93   1504009-001  1504009001      15        12     CYA    1504009          G   \n",
       "94   1510055-038  1510055038      15        12     CYA    1510055          G   \n",
       "183  1503684-001  1503684001      15        19     CYA    1503684          G   \n",
       "193  1510028-014  1510028014      15        19     TEH    1510025          G   \n",
       "194  1510028-015  1510028015      15        19     TEH    1510028          G   \n",
       "196  1510003-267  1510003267      15        12     CYA    1510003          G   \n",
       "\n",
       "                                   SOURCE_NAM STATION_TY STATUS COMMENT_1  \n",
       "31    WELL 01- UMTALI WELL CL2 TREATMENT XCLD        NaN     AT       NaN  \n",
       "32     WELL 02- MONTCLAIRE WELL CL2 TREATMENT        NaN     AT       NaN  \n",
       "33   ST2S1- COUNTRY CANYON & UMTALI SAMPLE ST        NaN     DT       NaN  \n",
       "73                                    WELL 02        NaN     AR       NaN  \n",
       "93                                   WELL 001        NaN     AR       NaN  \n",
       "94            WELL 201-01 - GAC_EFF-TCP & H2S        NaN     DT       NaN  \n",
       "183                                   WELL 01        NaN     AR       NaN  \n",
       "193                                   WELL 09        NaN     AR       NaN  \n",
       "194                                   WELL 10        NaN     AR       NaN  \n",
       "196                      WELL 202-01 - AS-TRT        NaN     AT       NaN  "
      ]
     },
     "execution_count": 58,
     "metadata": {},
     "output_type": "execute_result"
    }
   ],
   "source": [
    "kern_sites.head(10)"
   ]
  },
  {
   "cell_type": "code",
   "execution_count": 63,
   "metadata": {},
   "outputs": [
    {
     "data": {
      "text/plain": [
       "array([nan], dtype=object)"
      ]
     },
     "execution_count": 63,
     "metadata": {},
     "output_type": "execute_result"
    }
   ],
   "source": [
    "kern_sites['COMMENT_1'].unique()"
   ]
  },
  {
   "cell_type": "markdown",
   "metadata": {},
   "source": [
    "Care about:\n",
    "Water Type = G, will need to remove sites where status are things like \"abandoned\" or \"destroyed\" etc. \n",
    "Status = AR (Active Raw), AU (Active Untreated)\n",
    "\n",
    "Drop: FRDS_NO, County, District, User, Comments.\n",
    "\n",
    "Not sure how to handle Station Type just yet. There's a lot to parse"
   ]
  },
  {
   "cell_type": "code",
   "execution_count": 59,
   "metadata": {},
   "outputs": [
    {
     "data": {
      "text/plain": [
       "AR    727\n",
       "AT    722\n",
       "DT    374\n",
       "AU    279\n",
       "IU    277\n",
       "IR    245\n",
       "IT    151\n",
       "DS    147\n",
       "AB     81\n",
       "PN     43\n",
       "SR     34\n",
       "PT     34\n",
       "CT     29\n",
       "SU     28\n",
       "ST     17\n",
       "MW     13\n",
       "CR     13\n",
       "AG     10\n",
       "WW      9\n",
       "PR      5\n",
       "DR      2\n",
       "CU      1\n",
       "Name: STATUS, dtype: int64"
      ]
     },
     "execution_count": 59,
     "metadata": {},
     "output_type": "execute_result"
    }
   ],
   "source": [
    "kern_sites['STATUS'].value_counts()"
   ]
  },
  {
   "cell_type": "code",
   "execution_count": 77,
   "metadata": {},
   "outputs": [
    {
     "data": {
      "text/plain": [
       "Index(['PRI_STA_C', 'FRDS_NO', 'COUNTY', 'DISTRICT', 'USER_ID', 'SYSTEM_NO',\n",
       "       'WATER_TYPE', 'SOURCE_NAM', 'STATION_TY', 'STATUS', 'COMMENT_1'],\n",
       "      dtype='object')"
      ]
     },
     "execution_count": 77,
     "metadata": {},
     "output_type": "execute_result"
    }
   ],
   "source": [
    "kern_sites.columns"
   ]
  },
  {
   "cell_type": "code",
   "execution_count": 78,
   "metadata": {},
   "outputs": [
    {
     "name": "stderr",
     "output_type": "stream",
     "text": [
      "C:\\Users\\Nicole\\Anaconda3\\envs\\dsi\\lib\\site-packages\\pandas\\core\\frame.py:3694: SettingWithCopyWarning: \n",
      "A value is trying to be set on a copy of a slice from a DataFrame\n",
      "\n",
      "See the caveats in the documentation: http://pandas.pydata.org/pandas-docs/stable/indexing.html#indexing-view-versus-copy\n",
      "  return super(DataFrame, self).drop(labels=labels, axis=axis,\n"
     ]
    }
   ],
   "source": [
    "kern_sites.drop(['FRDS_NO', 'COUNTY', 'DISTRICT', 'USER_ID', 'COMMENT_1'], axis=1, inplace=True)"
   ]
  },
  {
   "cell_type": "code",
   "execution_count": 85,
   "metadata": {},
   "outputs": [],
   "source": [
    "kern_sites = kern_sites[kern_sites['WATER_TYPE'] == 'G']"
   ]
  },
  {
   "cell_type": "code",
   "execution_count": 88,
   "metadata": {},
   "outputs": [],
   "source": [
    "kern_sites = kern_sites[(kern_sites['STATUS'] == 'AR') | (kern_sites['STATUS'] == 'AU')]"
   ]
  },
  {
   "cell_type": "code",
   "execution_count": 89,
   "metadata": {},
   "outputs": [
    {
     "data": {
      "text/plain": [
       "(991, 6)"
      ]
     },
     "execution_count": 89,
     "metadata": {},
     "output_type": "execute_result"
    }
   ],
   "source": [
    "kern_sites.shape"
   ]
  },
  {
   "cell_type": "code",
   "execution_count": 90,
   "metadata": {
    "scrolled": true
   },
   "outputs": [
    {
     "data": {
      "text/html": [
       "<div>\n",
       "<style scoped>\n",
       "    .dataframe tbody tr th:only-of-type {\n",
       "        vertical-align: middle;\n",
       "    }\n",
       "\n",
       "    .dataframe tbody tr th {\n",
       "        vertical-align: top;\n",
       "    }\n",
       "\n",
       "    .dataframe thead th {\n",
       "        text-align: right;\n",
       "    }\n",
       "</style>\n",
       "<table border=\"1\" class=\"dataframe\">\n",
       "  <thead>\n",
       "    <tr style=\"text-align: right;\">\n",
       "      <th></th>\n",
       "      <th>PRI_STA_C</th>\n",
       "      <th>SYSTEM_NO</th>\n",
       "      <th>WATER_TYPE</th>\n",
       "      <th>SOURCE_NAM</th>\n",
       "      <th>STATION_TY</th>\n",
       "      <th>STATUS</th>\n",
       "    </tr>\n",
       "  </thead>\n",
       "  <tbody>\n",
       "    <tr>\n",
       "      <th>73</th>\n",
       "      <td>1503576-005</td>\n",
       "      <td>1503576</td>\n",
       "      <td>G</td>\n",
       "      <td>WELL 02</td>\n",
       "      <td>NaN</td>\n",
       "      <td>AR</td>\n",
       "    </tr>\n",
       "    <tr>\n",
       "      <th>93</th>\n",
       "      <td>1504009-001</td>\n",
       "      <td>1504009</td>\n",
       "      <td>G</td>\n",
       "      <td>WELL 001</td>\n",
       "      <td>NaN</td>\n",
       "      <td>AR</td>\n",
       "    </tr>\n",
       "    <tr>\n",
       "      <th>183</th>\n",
       "      <td>1503684-001</td>\n",
       "      <td>1503684</td>\n",
       "      <td>G</td>\n",
       "      <td>WELL 01</td>\n",
       "      <td>NaN</td>\n",
       "      <td>AR</td>\n",
       "    </tr>\n",
       "    <tr>\n",
       "      <th>193</th>\n",
       "      <td>1510028-014</td>\n",
       "      <td>1510025</td>\n",
       "      <td>G</td>\n",
       "      <td>WELL 09</td>\n",
       "      <td>NaN</td>\n",
       "      <td>AR</td>\n",
       "    </tr>\n",
       "    <tr>\n",
       "      <th>194</th>\n",
       "      <td>1510028-015</td>\n",
       "      <td>1510028</td>\n",
       "      <td>G</td>\n",
       "      <td>WELL 10</td>\n",
       "      <td>NaN</td>\n",
       "      <td>AR</td>\n",
       "    </tr>\n",
       "  </tbody>\n",
       "</table>\n",
       "</div>"
      ],
      "text/plain": [
       "       PRI_STA_C  SYSTEM_NO WATER_TYPE SOURCE_NAM STATION_TY STATUS\n",
       "73   1503576-005    1503576          G    WELL 02        NaN     AR\n",
       "93   1504009-001    1504009          G   WELL 001        NaN     AR\n",
       "183  1503684-001    1503684          G    WELL 01        NaN     AR\n",
       "193  1510028-014    1510025          G    WELL 09        NaN     AR\n",
       "194  1510028-015    1510028          G    WELL 10        NaN     AR"
      ]
     },
     "execution_count": 90,
     "metadata": {},
     "output_type": "execute_result"
    }
   ],
   "source": [
    "kern_sites.head()"
   ]
  },
  {
   "cell_type": "code",
   "execution_count": 91,
   "metadata": {},
   "outputs": [],
   "source": [
    "kern_sites.drop('WATER_TYPE', axis=1, inplace=True)"
   ]
  },
  {
   "cell_type": "code",
   "execution_count": null,
   "metadata": {},
   "outputs": [],
   "source": []
  },
  {
   "cell_type": "code",
   "execution_count": null,
   "metadata": {},
   "outputs": [],
   "source": []
  },
  {
   "cell_type": "markdown",
   "metadata": {},
   "source": [
    "## Groundwater Data"
   ]
  },
  {
   "cell_type": "code",
   "execution_count": 7,
   "metadata": {},
   "outputs": [],
   "source": [
    "raw_gw = pd.read_csv('./assets/Groundwater/KernEDF.txt', sep='\\t')"
   ]
  },
  {
   "cell_type": "code",
   "execution_count": 8,
   "metadata": {},
   "outputs": [
    {
     "data": {
      "text/html": [
       "<div>\n",
       "<style scoped>\n",
       "    .dataframe tbody tr th:only-of-type {\n",
       "        vertical-align: middle;\n",
       "    }\n",
       "\n",
       "    .dataframe tbody tr th {\n",
       "        vertical-align: top;\n",
       "    }\n",
       "\n",
       "    .dataframe thead th {\n",
       "        text-align: right;\n",
       "    }\n",
       "</style>\n",
       "<table border=\"1\" class=\"dataframe\">\n",
       "  <thead>\n",
       "    <tr style=\"text-align: right;\">\n",
       "      <th></th>\n",
       "      <th>COUNTY</th>\n",
       "      <th>GLOBAL_ID</th>\n",
       "      <th>FIELD_PT_NAME</th>\n",
       "      <th>LOGDATE</th>\n",
       "      <th>LOGTIME</th>\n",
       "      <th>LOGCODE</th>\n",
       "      <th>SAMPID</th>\n",
       "      <th>MATRIX</th>\n",
       "      <th>LABWO</th>\n",
       "      <th>LABCODE</th>\n",
       "      <th>...</th>\n",
       "      <th>ANADATE</th>\n",
       "      <th>BASIS</th>\n",
       "      <th>PARLABEL</th>\n",
       "      <th>PARVAL</th>\n",
       "      <th>PARVQ</th>\n",
       "      <th>LABDL</th>\n",
       "      <th>REPDL</th>\n",
       "      <th>UNITS</th>\n",
       "      <th>DILFAC</th>\n",
       "      <th>LNOTE</th>\n",
       "    </tr>\n",
       "  </thead>\n",
       "  <tbody>\n",
       "    <tr>\n",
       "      <th>0</th>\n",
       "      <td>Kern</td>\n",
       "      <td>GAGW10000018</td>\n",
       "      <td>NCL-2-02</td>\n",
       "      <td>2014-11-21</td>\n",
       "      <td>930.0</td>\n",
       "      <td>BTSC</td>\n",
       "      <td>NCL-2-02</td>\n",
       "      <td>W</td>\n",
       "      <td>94042-1</td>\n",
       "      <td>TAIC</td>\n",
       "      <td>...</td>\n",
       "      <td>2014-11-25</td>\n",
       "      <td>N</td>\n",
       "      <td>BZ</td>\n",
       "      <td>0.000</td>\n",
       "      <td>ND</td>\n",
       "      <td>0.250</td>\n",
       "      <td>2.0</td>\n",
       "      <td>UG/L</td>\n",
       "      <td>1.0</td>\n",
       "      <td>NaN</td>\n",
       "    </tr>\n",
       "    <tr>\n",
       "      <th>1</th>\n",
       "      <td>Kern</td>\n",
       "      <td>GAGW10000018</td>\n",
       "      <td>NCL-2-02</td>\n",
       "      <td>2014-11-21</td>\n",
       "      <td>930.0</td>\n",
       "      <td>BTSC</td>\n",
       "      <td>NCL-2-02</td>\n",
       "      <td>W</td>\n",
       "      <td>94042-1</td>\n",
       "      <td>TAIC</td>\n",
       "      <td>...</td>\n",
       "      <td>2014-11-25</td>\n",
       "      <td>N</td>\n",
       "      <td>XYLO</td>\n",
       "      <td>0.000</td>\n",
       "      <td>ND</td>\n",
       "      <td>0.250</td>\n",
       "      <td>2.0</td>\n",
       "      <td>UG/L</td>\n",
       "      <td>1.0</td>\n",
       "      <td>NaN</td>\n",
       "    </tr>\n",
       "    <tr>\n",
       "      <th>2</th>\n",
       "      <td>Kern</td>\n",
       "      <td>GAGW10000018</td>\n",
       "      <td>NCL-2-02</td>\n",
       "      <td>2014-11-21</td>\n",
       "      <td>930.0</td>\n",
       "      <td>BTSC</td>\n",
       "      <td>NCL-2-02</td>\n",
       "      <td>W</td>\n",
       "      <td>94042-1</td>\n",
       "      <td>TAIC</td>\n",
       "      <td>...</td>\n",
       "      <td>2014-12-23</td>\n",
       "      <td>N</td>\n",
       "      <td>RA226228</td>\n",
       "      <td>0.691</td>\n",
       "      <td>=</td>\n",
       "      <td>0.377</td>\n",
       "      <td>5.0</td>\n",
       "      <td>PCI/L</td>\n",
       "      <td>1.0</td>\n",
       "      <td>NaN</td>\n",
       "    </tr>\n",
       "    <tr>\n",
       "      <th>3</th>\n",
       "      <td>Kern</td>\n",
       "      <td>GAGW10000018</td>\n",
       "      <td>NCL-28E4</td>\n",
       "      <td>2014-09-12</td>\n",
       "      <td>1000.0</td>\n",
       "      <td>BTSC</td>\n",
       "      <td>NCL-28E4</td>\n",
       "      <td>W</td>\n",
       "      <td>88029-1</td>\n",
       "      <td>TAIC</td>\n",
       "      <td>...</td>\n",
       "      <td>2014-09-13</td>\n",
       "      <td>N</td>\n",
       "      <td>HCO3</td>\n",
       "      <td>0.000</td>\n",
       "      <td>ND</td>\n",
       "      <td>4.800</td>\n",
       "      <td>4.8</td>\n",
       "      <td>MG/L</td>\n",
       "      <td>1.0</td>\n",
       "      <td>NaN</td>\n",
       "    </tr>\n",
       "    <tr>\n",
       "      <th>4</th>\n",
       "      <td>Kern</td>\n",
       "      <td>GAGW10000018</td>\n",
       "      <td>NCL-2-02</td>\n",
       "      <td>2016-05-10</td>\n",
       "      <td>908.0</td>\n",
       "      <td>BTST</td>\n",
       "      <td>Monitoring Well #2-02</td>\n",
       "      <td>W</td>\n",
       "      <td>NaN</td>\n",
       "      <td>BCLB</td>\n",
       "      <td>...</td>\n",
       "      <td>2016-05-17</td>\n",
       "      <td>N</td>\n",
       "      <td>CR</td>\n",
       "      <td>1.600</td>\n",
       "      <td>=</td>\n",
       "      <td>1.100</td>\n",
       "      <td>10.0</td>\n",
       "      <td>UG/L</td>\n",
       "      <td>1.0</td>\n",
       "      <td>J,DX</td>\n",
       "    </tr>\n",
       "  </tbody>\n",
       "</table>\n",
       "<p>5 rows × 23 columns</p>\n",
       "</div>"
      ],
      "text/plain": [
       "  COUNTY     GLOBAL_ID FIELD_PT_NAME     LOGDATE  LOGTIME LOGCODE  \\\n",
       "0   Kern  GAGW10000018      NCL-2-02  2014-11-21    930.0    BTSC   \n",
       "1   Kern  GAGW10000018      NCL-2-02  2014-11-21    930.0    BTSC   \n",
       "2   Kern  GAGW10000018      NCL-2-02  2014-11-21    930.0    BTSC   \n",
       "3   Kern  GAGW10000018      NCL-28E4  2014-09-12   1000.0    BTSC   \n",
       "4   Kern  GAGW10000018      NCL-2-02  2016-05-10    908.0    BTST   \n",
       "\n",
       "                  SAMPID MATRIX   LABWO  LABCODE  ...       ANADATE BASIS  \\\n",
       "0               NCL-2-02      W  94042-1    TAIC  ...    2014-11-25     N   \n",
       "1               NCL-2-02      W  94042-1    TAIC  ...    2014-11-25     N   \n",
       "2               NCL-2-02      W  94042-1    TAIC  ...    2014-12-23     N   \n",
       "3               NCL-28E4      W  88029-1    TAIC  ...    2014-09-13     N   \n",
       "4  Monitoring Well #2-02      W      NaN    BCLB  ...    2016-05-17     N   \n",
       "\n",
       "   PARLABEL PARVAL PARVQ  LABDL  REPDL  UNITS  DILFAC  LNOTE  \n",
       "0        BZ  0.000    ND  0.250    2.0   UG/L     1.0    NaN  \n",
       "1      XYLO  0.000    ND  0.250    2.0   UG/L     1.0    NaN  \n",
       "2  RA226228  0.691     =  0.377    5.0  PCI/L     1.0    NaN  \n",
       "3      HCO3  0.000    ND  4.800    4.8   MG/L     1.0    NaN  \n",
       "4        CR  1.600     =  1.100   10.0   UG/L     1.0   J,DX  \n",
       "\n",
       "[5 rows x 23 columns]"
      ]
     },
     "execution_count": 8,
     "metadata": {},
     "output_type": "execute_result"
    }
   ],
   "source": [
    "raw_gw.head()"
   ]
  },
  {
   "cell_type": "code",
   "execution_count": 18,
   "metadata": {},
   "outputs": [
    {
     "data": {
      "text/plain": [
       "Index(['COUNTY', 'GLOBAL_ID', 'FIELD_PT_NAME', 'LOGDATE', 'LOGTIME', 'LOGCODE',\n",
       "       'SAMPID', 'MATRIX', 'LABWO ', 'LABCODE', 'LABSAMPID', 'ANMCODE',\n",
       "       'LABLOTCTL', 'ANADATE', 'BASIS', 'PARLABEL', 'PARVAL', 'PARVQ', 'LABDL',\n",
       "       'REPDL', 'UNITS', 'DILFAC', 'LNOTE'],\n",
       "      dtype='object')"
      ]
     },
     "execution_count": 18,
     "metadata": {},
     "output_type": "execute_result"
    }
   ],
   "source": [
    "raw_gw.columns"
   ]
  },
  {
   "cell_type": "code",
   "execution_count": 19,
   "metadata": {},
   "outputs": [
    {
     "data": {
      "text/plain": [
       "array(['2014-11-21', '2014-09-12', '2016-05-10', ..., '2006-06-30',\n",
       "       '2013-06-12', nan], dtype=object)"
      ]
     },
     "execution_count": 19,
     "metadata": {},
     "output_type": "execute_result"
    }
   ],
   "source": [
    "raw_gw['LOGDATE'].unique()"
   ]
  },
  {
   "cell_type": "code",
   "execution_count": 36,
   "metadata": {},
   "outputs": [
    {
     "data": {
      "text/plain": [
       "array(['NCL-2-02', 'NCL-28E4', 'QCTB', ..., 'A2-SW16', 'OW-21', nan],\n",
       "      dtype=object)"
      ]
     },
     "execution_count": 36,
     "metadata": {},
     "output_type": "execute_result"
    }
   ],
   "source": [
    "raw_gw['FIELD_PT_NAME'].unique()"
   ]
  },
  {
   "cell_type": "code",
   "execution_count": null,
   "metadata": {},
   "outputs": [],
   "source": []
  },
  {
   "cell_type": "code",
   "execution_count": null,
   "metadata": {},
   "outputs": [],
   "source": []
  },
  {
   "cell_type": "code",
   "execution_count": 27,
   "metadata": {},
   "outputs": [],
   "source": [
    "raw_gw_loc = pd.read_excel('./assets/Groundwater/gama_location_kern_county.xlsx')"
   ]
  },
  {
   "cell_type": "code",
   "execution_count": 28,
   "metadata": {},
   "outputs": [
    {
     "data": {
      "text/plain": [
       "(1050, 5)"
      ]
     },
     "execution_count": 28,
     "metadata": {},
     "output_type": "execute_result"
    }
   ],
   "source": [
    "raw_gw_loc.shape"
   ]
  },
  {
   "cell_type": "code",
   "execution_count": 29,
   "metadata": {},
   "outputs": [
    {
     "data": {
      "text/html": [
       "<div>\n",
       "<style scoped>\n",
       "    .dataframe tbody tr th:only-of-type {\n",
       "        vertical-align: middle;\n",
       "    }\n",
       "\n",
       "    .dataframe tbody tr th {\n",
       "        vertical-align: top;\n",
       "    }\n",
       "\n",
       "    .dataframe thead th {\n",
       "        text-align: right;\n",
       "    }\n",
       "</style>\n",
       "<table border=\"1\" class=\"dataframe\">\n",
       "  <thead>\n",
       "    <tr style=\"text-align: right;\">\n",
       "      <th></th>\n",
       "      <th>DATASET</th>\n",
       "      <th>WELL ID</th>\n",
       "      <th>WELL NAME</th>\n",
       "      <th>LATITUDE</th>\n",
       "      <th>LONGITUDE</th>\n",
       "    </tr>\n",
       "  </thead>\n",
       "  <tbody>\n",
       "    <tr>\n",
       "      <th>0</th>\n",
       "      <td>USGSNEW</td>\n",
       "      <td>USGS-345733118085201</td>\n",
       "      <td>USGS-345733118085201</td>\n",
       "      <td>34.959140</td>\n",
       "      <td>-118.148686</td>\n",
       "    </tr>\n",
       "    <tr>\n",
       "      <th>1</th>\n",
       "      <td>USGSNEW</td>\n",
       "      <td>USGS-351824117570101</td>\n",
       "      <td>USGS-351824117570101</td>\n",
       "      <td>35.306628</td>\n",
       "      <td>-117.951180</td>\n",
       "    </tr>\n",
       "    <tr>\n",
       "      <th>2</th>\n",
       "      <td>DHS</td>\n",
       "      <td>W0601502244</td>\n",
       "      <td>1502244-001</td>\n",
       "      <td>35.602611</td>\n",
       "      <td>-119.507496</td>\n",
       "    </tr>\n",
       "    <tr>\n",
       "      <th>3</th>\n",
       "      <td>DHS</td>\n",
       "      <td>W0601503431</td>\n",
       "      <td>1503431-003</td>\n",
       "      <td>35.715251</td>\n",
       "      <td>-119.427021</td>\n",
       "    </tr>\n",
       "    <tr>\n",
       "      <th>4</th>\n",
       "      <td>DHS</td>\n",
       "      <td>W0601510302</td>\n",
       "      <td>1510302-001</td>\n",
       "      <td>35.332059</td>\n",
       "      <td>-119.362728</td>\n",
       "    </tr>\n",
       "  </tbody>\n",
       "</table>\n",
       "</div>"
      ],
      "text/plain": [
       "   DATASET               WELL ID             WELL NAME   LATITUDE   LONGITUDE\n",
       "0  USGSNEW  USGS-345733118085201  USGS-345733118085201  34.959140 -118.148686\n",
       "1  USGSNEW  USGS-351824117570101  USGS-351824117570101  35.306628 -117.951180\n",
       "2      DHS           W0601502244           1502244-001  35.602611 -119.507496\n",
       "3      DHS           W0601503431           1503431-003  35.715251 -119.427021\n",
       "4      DHS           W0601510302           1510302-001  35.332059 -119.362728"
      ]
     },
     "execution_count": 29,
     "metadata": {},
     "output_type": "execute_result"
    }
   ],
   "source": [
    "raw_gw_loc.head()"
   ]
  },
  {
   "cell_type": "code",
   "execution_count": 35,
   "metadata": {},
   "outputs": [
    {
     "data": {
      "text/plain": [
       "array(['USGS-345733118085201', 'USGS-351824117570101', '1502244-001', ...,\n",
       "       '1510703-003', '1510703-001', '1502608-001'], dtype=object)"
      ]
     },
     "execution_count": 35,
     "metadata": {},
     "output_type": "execute_result"
    }
   ],
   "source": [
    "raw_gw_loc['WELL NAME'].unique()"
   ]
  },
  {
   "cell_type": "code",
   "execution_count": null,
   "metadata": {},
   "outputs": [],
   "source": []
  },
  {
   "cell_type": "code",
   "execution_count": null,
   "metadata": {},
   "outputs": [],
   "source": []
  },
  {
   "cell_type": "markdown",
   "metadata": {},
   "source": [
    "# Creating a SQL database\n",
    "\n",
    "This is to store and more easily query all the different databases instead of doing it all in Pandas"
   ]
  },
  {
   "cell_type": "code",
   "execution_count": 67,
   "metadata": {},
   "outputs": [],
   "source": [
    "from sqlalchemy import create_engine"
   ]
  },
  {
   "cell_type": "code",
   "execution_count": null,
   "metadata": {},
   "outputs": [],
   "source": []
  }
 ],
 "metadata": {
  "kernelspec": {
   "display_name": "Python [conda env:dsi]",
   "language": "python",
   "name": "conda-env-dsi-py"
  },
  "language_info": {
   "codemirror_mode": {
    "name": "ipython",
    "version": 3
   },
   "file_extension": ".py",
   "mimetype": "text/x-python",
   "name": "python",
   "nbconvert_exporter": "python",
   "pygments_lexer": "ipython3",
   "version": "3.6.5"
  }
 },
 "nbformat": 4,
 "nbformat_minor": 2
}
