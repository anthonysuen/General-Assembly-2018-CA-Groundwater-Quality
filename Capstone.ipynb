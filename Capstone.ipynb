{
 "cells": [
  {
   "cell_type": "markdown",
   "metadata": {},
   "source": [
    "## Notes:\n",
    "\n",
    "Limiting scope: \n",
    "Kern County \n",
    "2010 - present"
   ]
  },
  {
   "cell_type": "markdown",
   "metadata": {},
   "source": [
    "# Library Imports"
   ]
  },
  {
   "cell_type": "code",
   "execution_count": 2,
   "metadata": {},
   "outputs": [],
   "source": [
    "import numpy as np\n",
    "import pandas as pd"
   ]
  },
  {
   "cell_type": "markdown",
   "metadata": {},
   "source": [
    "# Data Import checks"
   ]
  },
  {
   "cell_type": "code",
   "execution_count": 14,
   "metadata": {},
   "outputs": [],
   "source": [
    "raw_drinkchem = pd.read_excel('./assets/Drinkingwater/chemical.xlsx')"
   ]
  },
  {
   "cell_type": "code",
   "execution_count": 15,
   "metadata": {},
   "outputs": [
    {
     "name": "stdout",
     "output_type": "stream",
     "text": [
      "(1048575, 12)\n"
     ]
    },
    {
     "data": {
      "text/html": [
       "<div>\n",
       "<style scoped>\n",
       "    .dataframe tbody tr th:only-of-type {\n",
       "        vertical-align: middle;\n",
       "    }\n",
       "\n",
       "    .dataframe tbody tr th {\n",
       "        vertical-align: top;\n",
       "    }\n",
       "\n",
       "    .dataframe thead th {\n",
       "        text-align: right;\n",
       "    }\n",
       "</style>\n",
       "<table border=\"1\" class=\"dataframe\">\n",
       "  <thead>\n",
       "    <tr style=\"text-align: right;\">\n",
       "      <th></th>\n",
       "      <th>PRIM_STA_C</th>\n",
       "      <th>SAMP_DATE</th>\n",
       "      <th>SAMP_TIME</th>\n",
       "      <th>LAB_NUM</th>\n",
       "      <th>ANADATE</th>\n",
       "      <th>INDATE</th>\n",
       "      <th>METHOD</th>\n",
       "      <th>INBY</th>\n",
       "      <th>SPECIAL</th>\n",
       "      <th>STORE_NUM</th>\n",
       "      <th>XMOD</th>\n",
       "      <th>FINDING</th>\n",
       "    </tr>\n",
       "  </thead>\n",
       "  <tbody>\n",
       "    <tr>\n",
       "      <th>0</th>\n",
       "      <td>0103039-004</td>\n",
       "      <td>2017-11-22</td>\n",
       "      <td>848</td>\n",
       "      <td>4790</td>\n",
       "      <td>2017-11-22</td>\n",
       "      <td>2017-11-30</td>\n",
       "      <td>SM 212</td>\n",
       "      <td>#</td>\n",
       "      <td>S</td>\n",
       "      <td>00081</td>\n",
       "      <td>&lt;</td>\n",
       "      <td>3.0</td>\n",
       "    </tr>\n",
       "    <tr>\n",
       "      <th>1</th>\n",
       "      <td>0103039-004</td>\n",
       "      <td>2017-11-22</td>\n",
       "      <td>848</td>\n",
       "      <td>4790</td>\n",
       "      <td>2017-11-22</td>\n",
       "      <td>2017-11-30</td>\n",
       "      <td>SM 215</td>\n",
       "      <td>#</td>\n",
       "      <td>S</td>\n",
       "      <td>00086</td>\n",
       "      <td>&lt;</td>\n",
       "      <td>1.0</td>\n",
       "    </tr>\n",
       "    <tr>\n",
       "      <th>2</th>\n",
       "      <td>0103039-004</td>\n",
       "      <td>2017-11-22</td>\n",
       "      <td>848</td>\n",
       "      <td>4790</td>\n",
       "      <td>2017-11-29</td>\n",
       "      <td>2017-11-30</td>\n",
       "      <td>SM 251</td>\n",
       "      <td>#</td>\n",
       "      <td>S</td>\n",
       "      <td>00095</td>\n",
       "      <td>NaN</td>\n",
       "      <td>550.0</td>\n",
       "    </tr>\n",
       "    <tr>\n",
       "      <th>3</th>\n",
       "      <td>0103039-004</td>\n",
       "      <td>2017-11-22</td>\n",
       "      <td>848</td>\n",
       "      <td>4790</td>\n",
       "      <td>2017-11-29</td>\n",
       "      <td>2017-11-30</td>\n",
       "      <td>SM4500</td>\n",
       "      <td>#</td>\n",
       "      <td>S</td>\n",
       "      <td>00403</td>\n",
       "      <td>NaN</td>\n",
       "      <td>8.1</td>\n",
       "    </tr>\n",
       "    <tr>\n",
       "      <th>4</th>\n",
       "      <td>0103039-004</td>\n",
       "      <td>2017-11-22</td>\n",
       "      <td>848</td>\n",
       "      <td>4790</td>\n",
       "      <td>2017-11-22</td>\n",
       "      <td>2017-11-30</td>\n",
       "      <td>300.0</td>\n",
       "      <td>#</td>\n",
       "      <td>S</td>\n",
       "      <td>00618</td>\n",
       "      <td>NaN</td>\n",
       "      <td>5.7</td>\n",
       "    </tr>\n",
       "  </tbody>\n",
       "</table>\n",
       "</div>"
      ],
      "text/plain": [
       "    PRIM_STA_C  SAMP_DATE  SAMP_TIME  LAB_NUM    ANADATE     INDATE  METHOD  \\\n",
       "0  0103039-004 2017-11-22        848     4790 2017-11-22 2017-11-30  SM 212   \n",
       "1  0103039-004 2017-11-22        848     4790 2017-11-22 2017-11-30  SM 215   \n",
       "2  0103039-004 2017-11-22        848     4790 2017-11-29 2017-11-30  SM 251   \n",
       "3  0103039-004 2017-11-22        848     4790 2017-11-29 2017-11-30  SM4500   \n",
       "4  0103039-004 2017-11-22        848     4790 2017-11-22 2017-11-30   300.0   \n",
       "\n",
       "  INBY SPECIAL STORE_NUM XMOD  FINDING  \n",
       "0    #       S     00081    <      3.0  \n",
       "1    #       S     00086    <      1.0  \n",
       "2    #       S     00095  NaN    550.0  \n",
       "3    #       S     00403  NaN      8.1  \n",
       "4    #       S     00618  NaN      5.7  "
      ]
     },
     "execution_count": 15,
     "metadata": {},
     "output_type": "execute_result"
    }
   ],
   "source": [
    "print(raw_drinkchem.shape)\n",
    "raw_drinkchem.head()"
   ]
  },
  {
   "cell_type": "code",
   "execution_count": 6,
   "metadata": {},
   "outputs": [
    {
     "data": {
      "text/plain": [
       "Index(['PRIM_STA_C', 'SAMP_DATE', 'SAMP_TIME', 'LAB_NUM', 'ANADATE', 'INDATE',\n",
       "       'METHOD', 'INBY', 'SPECIAL', 'STORE_NUM', 'XMOD', 'FINDING'],\n",
       "      dtype='object')"
      ]
     },
     "execution_count": 6,
     "metadata": {},
     "output_type": "execute_result"
    }
   ],
   "source": [
    "raw_drinkchem.columns"
   ]
  },
  {
   "cell_type": "code",
   "execution_count": 17,
   "metadata": {},
   "outputs": [
    {
     "data": {
      "text/plain": [
       "array(['0103039-004', '0103040-007', '0103041-001', ..., '1510005-031',\n",
       "       '1510005-032', '1510005-033'], dtype=object)"
      ]
     },
     "execution_count": 17,
     "metadata": {},
     "output_type": "execute_result"
    }
   ],
   "source": [
    "raw_drinkchem['PRIM_STA_C'].unique()"
   ]
  },
  {
   "cell_type": "code",
   "execution_count": 24,
   "metadata": {},
   "outputs": [],
   "source": [
    "kern_sample = [sample for sample in raw_drinkchem['PRIM_STA_C'] if sample.startswith('15')]"
   ]
  },
  {
   "cell_type": "code",
   "execution_count": 26,
   "metadata": {},
   "outputs": [
    {
     "data": {
      "text/plain": [
       "196389"
      ]
     },
     "execution_count": 26,
     "metadata": {},
     "output_type": "execute_result"
    }
   ],
   "source": [
    "len(kern_sample)"
   ]
  },
  {
   "cell_type": "code",
   "execution_count": 9,
   "metadata": {},
   "outputs": [
    {
     "data": {
      "text/html": [
       "<div>\n",
       "<style scoped>\n",
       "    .dataframe tbody tr th:only-of-type {\n",
       "        vertical-align: middle;\n",
       "    }\n",
       "\n",
       "    .dataframe tbody tr th {\n",
       "        vertical-align: top;\n",
       "    }\n",
       "\n",
       "    .dataframe thead th {\n",
       "        text-align: right;\n",
       "    }\n",
       "</style>\n",
       "<table border=\"1\" class=\"dataframe\">\n",
       "  <thead>\n",
       "    <tr style=\"text-align: right;\">\n",
       "      <th></th>\n",
       "      <th>count</th>\n",
       "      <th>mean</th>\n",
       "      <th>std</th>\n",
       "      <th>min</th>\n",
       "      <th>25%</th>\n",
       "      <th>50%</th>\n",
       "      <th>75%</th>\n",
       "      <th>max</th>\n",
       "    </tr>\n",
       "  </thead>\n",
       "  <tbody>\n",
       "    <tr>\n",
       "      <th>SAMP_TIME</th>\n",
       "      <td>1000.0</td>\n",
       "      <td>1093.759000</td>\n",
       "      <td>255.380497</td>\n",
       "      <td>0.0</td>\n",
       "      <td>903.0</td>\n",
       "      <td>1237.0</td>\n",
       "      <td>1305.0000</td>\n",
       "      <td>1630.0</td>\n",
       "    </tr>\n",
       "    <tr>\n",
       "      <th>LAB_NUM</th>\n",
       "      <td>1000.0</td>\n",
       "      <td>2692.188000</td>\n",
       "      <td>1651.022176</td>\n",
       "      <td>10.0</td>\n",
       "      <td>1610.0</td>\n",
       "      <td>1675.0</td>\n",
       "      <td>2416.0000</td>\n",
       "      <td>9588.0</td>\n",
       "    </tr>\n",
       "    <tr>\n",
       "      <th>FINDING</th>\n",
       "      <td>1000.0</td>\n",
       "      <td>90.797538</td>\n",
       "      <td>416.041385</td>\n",
       "      <td>0.0</td>\n",
       "      <td>0.0</td>\n",
       "      <td>0.5</td>\n",
       "      <td>1.0775</td>\n",
       "      <td>7000.0</td>\n",
       "    </tr>\n",
       "  </tbody>\n",
       "</table>\n",
       "</div>"
      ],
      "text/plain": [
       "            count         mean          std   min     25%     50%        75%  \\\n",
       "SAMP_TIME  1000.0  1093.759000   255.380497   0.0   903.0  1237.0  1305.0000   \n",
       "LAB_NUM    1000.0  2692.188000  1651.022176  10.0  1610.0  1675.0  2416.0000   \n",
       "FINDING    1000.0    90.797538   416.041385   0.0     0.0     0.5     1.0775   \n",
       "\n",
       "              max  \n",
       "SAMP_TIME  1630.0  \n",
       "LAB_NUM    9588.0  \n",
       "FINDING    7000.0  "
      ]
     },
     "execution_count": 9,
     "metadata": {},
     "output_type": "execute_result"
    }
   ],
   "source": [
    "raw_drinkchem.describe().T"
   ]
  },
  {
   "cell_type": "code",
   "execution_count": 11,
   "metadata": {},
   "outputs": [
    {
     "data": {
      "text/html": [
       "<div>\n",
       "<style scoped>\n",
       "    .dataframe tbody tr th:only-of-type {\n",
       "        vertical-align: middle;\n",
       "    }\n",
       "\n",
       "    .dataframe tbody tr th {\n",
       "        vertical-align: top;\n",
       "    }\n",
       "\n",
       "    .dataframe thead th {\n",
       "        text-align: right;\n",
       "    }\n",
       "</style>\n",
       "<table border=\"1\" class=\"dataframe\">\n",
       "  <thead>\n",
       "    <tr style=\"text-align: right;\">\n",
       "      <th></th>\n",
       "      <th>count</th>\n",
       "      <th>unique</th>\n",
       "      <th>top</th>\n",
       "      <th>freq</th>\n",
       "    </tr>\n",
       "  </thead>\n",
       "  <tbody>\n",
       "    <tr>\n",
       "      <th>PRIM_STA_C</th>\n",
       "      <td>1000</td>\n",
       "      <td>11</td>\n",
       "      <td>0104010-009</td>\n",
       "      <td>315</td>\n",
       "    </tr>\n",
       "    <tr>\n",
       "      <th>METHOD</th>\n",
       "      <td>253</td>\n",
       "      <td>29</td>\n",
       "      <td>E524.2</td>\n",
       "      <td>144</td>\n",
       "    </tr>\n",
       "    <tr>\n",
       "      <th>INBY</th>\n",
       "      <td>1000</td>\n",
       "      <td>2</td>\n",
       "      <td>#</td>\n",
       "      <td>536</td>\n",
       "    </tr>\n",
       "    <tr>\n",
       "      <th>SPECIAL</th>\n",
       "      <td>1000</td>\n",
       "      <td>1</td>\n",
       "      <td>S</td>\n",
       "      <td>1000</td>\n",
       "    </tr>\n",
       "    <tr>\n",
       "      <th>STORE_NUM</th>\n",
       "      <td>1000</td>\n",
       "      <td>206</td>\n",
       "      <td>01007</td>\n",
       "      <td>50</td>\n",
       "    </tr>\n",
       "    <tr>\n",
       "      <th>XMOD</th>\n",
       "      <td>543</td>\n",
       "      <td>2</td>\n",
       "      <td>&lt;</td>\n",
       "      <td>540</td>\n",
       "    </tr>\n",
       "  </tbody>\n",
       "</table>\n",
       "</div>"
      ],
      "text/plain": [
       "           count unique          top  freq\n",
       "PRIM_STA_C  1000     11  0104010-009   315\n",
       "METHOD       253     29       E524.2   144\n",
       "INBY        1000      2            #   536\n",
       "SPECIAL     1000      1            S  1000\n",
       "STORE_NUM   1000    206        01007    50\n",
       "XMOD         543      2            <   540"
      ]
     },
     "execution_count": 11,
     "metadata": {},
     "output_type": "execute_result"
    }
   ],
   "source": [
    "raw_drinkchem.describe(include='object').T"
   ]
  },
  {
   "cell_type": "raw",
   "metadata": {},
   "source": []
  },
  {
   "cell_type": "code",
   "execution_count": null,
   "metadata": {},
   "outputs": [],
   "source": []
  },
  {
   "cell_type": "code",
   "execution_count": 9,
   "metadata": {},
   "outputs": [],
   "source": [
    "raw_drinksys = pd.read_excel('./assets/Drinkingwater/watsys.xlsx')"
   ]
  },
  {
   "cell_type": "code",
   "execution_count": 13,
   "metadata": {},
   "outputs": [
    {
     "name": "stdout",
     "output_type": "stream",
     "text": [
      "(1000, 11)\n"
     ]
    },
    {
     "data": {
      "text/html": [
       "<div>\n",
       "<style scoped>\n",
       "    .dataframe tbody tr th:only-of-type {\n",
       "        vertical-align: middle;\n",
       "    }\n",
       "\n",
       "    .dataframe tbody tr th {\n",
       "        vertical-align: top;\n",
       "    }\n",
       "\n",
       "    .dataframe thead th {\n",
       "        text-align: right;\n",
       "    }\n",
       "</style>\n",
       "<table border=\"1\" class=\"dataframe\">\n",
       "  <thead>\n",
       "    <tr style=\"text-align: right;\">\n",
       "      <th></th>\n",
       "      <th>SYSTEM_NO</th>\n",
       "      <th>SYSTEM_NAM</th>\n",
       "      <th>HQNAME</th>\n",
       "      <th>ADDRESS</th>\n",
       "      <th>CITY</th>\n",
       "      <th>STATE</th>\n",
       "      <th>ZIP</th>\n",
       "      <th>ZIP_EXT</th>\n",
       "      <th>POP_SERV</th>\n",
       "      <th>CONNECTION</th>\n",
       "      <th>AREA_SERVE</th>\n",
       "    </tr>\n",
       "  </thead>\n",
       "  <tbody>\n",
       "    <tr>\n",
       "      <th>0</th>\n",
       "      <td>2800064</td>\n",
       "      <td>DAKOTA SHY WINERY</td>\n",
       "      <td>NaN</td>\n",
       "      <td>771 Sage Canyon Road</td>\n",
       "      <td>ST. HELENA</td>\n",
       "      <td>CA</td>\n",
       "      <td>94574</td>\n",
       "      <td>NaN</td>\n",
       "      <td>30</td>\n",
       "      <td>1</td>\n",
       "      <td>NaN</td>\n",
       "    </tr>\n",
       "    <tr>\n",
       "      <th>1</th>\n",
       "      <td>5403214</td>\n",
       "      <td>NaN</td>\n",
       "      <td>THREE RIVERS HISTORICAL MUSEUM</td>\n",
       "      <td>42268 SIERRA DR</td>\n",
       "      <td>THREE RIVERS</td>\n",
       "      <td>CA</td>\n",
       "      <td>93271</td>\n",
       "      <td>NaN</td>\n",
       "      <td>25</td>\n",
       "      <td>2</td>\n",
       "      <td>NaN</td>\n",
       "    </tr>\n",
       "    <tr>\n",
       "      <th>2</th>\n",
       "      <td>4000829</td>\n",
       "      <td>VINES R.V. RESORT</td>\n",
       "      <td>NaN</td>\n",
       "      <td>88 WELLSONA</td>\n",
       "      <td>PASO RO</td>\n",
       "      <td>CA</td>\n",
       "      <td>93446</td>\n",
       "      <td>NaN</td>\n",
       "      <td>400</td>\n",
       "      <td>1</td>\n",
       "      <td>NaN</td>\n",
       "    </tr>\n",
       "    <tr>\n",
       "      <th>3</th>\n",
       "      <td>103039</td>\n",
       "      <td>MOHRLAND MUTUAL WATER SYSTEM</td>\n",
       "      <td>MOHRLAND MUTUAL</td>\n",
       "      <td>24927 Mohr Drive</td>\n",
       "      <td>HAYWARD</td>\n",
       "      <td>CA</td>\n",
       "      <td>94545</td>\n",
       "      <td>tt</td>\n",
       "      <td>116</td>\n",
       "      <td>99</td>\n",
       "      <td>NaN</td>\n",
       "    </tr>\n",
       "    <tr>\n",
       "      <th>4</th>\n",
       "      <td>103040</td>\n",
       "      <td>NORRIS CANYON PROPERTY OWNERS ASSN.</td>\n",
       "      <td>NORRIS CANYON P</td>\n",
       "      <td>8653 Norris Canyon Road</td>\n",
       "      <td>CASTRO VALLEY</td>\n",
       "      <td>CA</td>\n",
       "      <td>94552</td>\n",
       "      <td>S</td>\n",
       "      <td>50</td>\n",
       "      <td>19</td>\n",
       "      <td>NaN</td>\n",
       "    </tr>\n",
       "  </tbody>\n",
       "</table>\n",
       "</div>"
      ],
      "text/plain": [
       "   SYSTEM_NO                           SYSTEM_NAM  \\\n",
       "0    2800064                    DAKOTA SHY WINERY   \n",
       "1    5403214                                  NaN   \n",
       "2    4000829                    VINES R.V. RESORT   \n",
       "3     103039         MOHRLAND MUTUAL WATER SYSTEM   \n",
       "4     103040  NORRIS CANYON PROPERTY OWNERS ASSN.   \n",
       "\n",
       "                           HQNAME                  ADDRESS           CITY  \\\n",
       "0                             NaN     771 Sage Canyon Road     ST. HELENA   \n",
       "1  THREE RIVERS HISTORICAL MUSEUM          42268 SIERRA DR   THREE RIVERS   \n",
       "2                             NaN              88 WELLSONA        PASO RO   \n",
       "3                 MOHRLAND MUTUAL         24927 Mohr Drive        HAYWARD   \n",
       "4                 NORRIS CANYON P  8653 Norris Canyon Road  CASTRO VALLEY   \n",
       "\n",
       "  STATE    ZIP ZIP_EXT  POP_SERV  CONNECTION AREA_SERVE  \n",
       "0    CA  94574     NaN        30           1        NaN  \n",
       "1    CA  93271     NaN        25           2        NaN  \n",
       "2    CA  93446     NaN       400           1        NaN  \n",
       "3    CA  94545      tt       116          99        NaN  \n",
       "4    CA  94552       S        50          19        NaN  "
      ]
     },
     "execution_count": 13,
     "metadata": {},
     "output_type": "execute_result"
    }
   ],
   "source": [
    "print(raw_drinksys.shape)\n",
    "raw_drinksys.head()"
   ]
  },
  {
   "cell_type": "code",
   "execution_count": 37,
   "metadata": {},
   "outputs": [
    {
     "data": {
      "text/plain": [
       "array(['2800064', '5403214', '4000829', ..., '3107347', '1000644',\n",
       "       '1504009'], dtype=object)"
      ]
     },
     "execution_count": 37,
     "metadata": {},
     "output_type": "execute_result"
    }
   ],
   "source": [
    "raw_drinksys['SYSTEM_NO'].unique()"
   ]
  },
  {
   "cell_type": "code",
   "execution_count": null,
   "metadata": {},
   "outputs": [],
   "source": []
  },
  {
   "cell_type": "code",
   "execution_count": null,
   "metadata": {},
   "outputs": [],
   "source": []
  },
  {
   "cell_type": "code",
   "execution_count": 8,
   "metadata": {},
   "outputs": [],
   "source": [
    "raw_drinksite = pd.read_excel('./assets/Drinkingwater/siteloc.xlsx')"
   ]
  },
  {
   "cell_type": "code",
   "execution_count": 9,
   "metadata": {},
   "outputs": [
    {
     "name": "stdout",
     "output_type": "stream",
     "text": [
      "(58328, 11)\n"
     ]
    },
    {
     "data": {
      "text/html": [
       "<div>\n",
       "<style scoped>\n",
       "    .dataframe tbody tr th:only-of-type {\n",
       "        vertical-align: middle;\n",
       "    }\n",
       "\n",
       "    .dataframe tbody tr th {\n",
       "        vertical-align: top;\n",
       "    }\n",
       "\n",
       "    .dataframe thead th {\n",
       "        text-align: right;\n",
       "    }\n",
       "</style>\n",
       "<table border=\"1\" class=\"dataframe\">\n",
       "  <thead>\n",
       "    <tr style=\"text-align: right;\">\n",
       "      <th></th>\n",
       "      <th>PRI_STA_C</th>\n",
       "      <th>FRDS_NO</th>\n",
       "      <th>COUNTY</th>\n",
       "      <th>DISTRICT</th>\n",
       "      <th>USER_ID</th>\n",
       "      <th>SYSTEM_NO</th>\n",
       "      <th>WATER_TYPE</th>\n",
       "      <th>SOURCE_NAM</th>\n",
       "      <th>STATION_TY</th>\n",
       "      <th>STATUS</th>\n",
       "      <th>COMMENT_1</th>\n",
       "    </tr>\n",
       "  </thead>\n",
       "  <tbody>\n",
       "    <tr>\n",
       "      <th>0</th>\n",
       "      <td>4301014-001</td>\n",
       "      <td>4301014001</td>\n",
       "      <td>43</td>\n",
       "      <td>17</td>\n",
       "      <td>SAN</td>\n",
       "      <td>4301014</td>\n",
       "      <td>G</td>\n",
       "      <td>WELL 01 - TREATED</td>\n",
       "      <td>NaN</td>\n",
       "      <td>AT</td>\n",
       "      <td>NaN</td>\n",
       "    </tr>\n",
       "    <tr>\n",
       "      <th>1</th>\n",
       "      <td>4301014-002</td>\n",
       "      <td>4301014002</td>\n",
       "      <td>43</td>\n",
       "      <td>17</td>\n",
       "      <td>SAN</td>\n",
       "      <td>4301014</td>\n",
       "      <td>G</td>\n",
       "      <td>WELL 01- CL2 TREATMENT</td>\n",
       "      <td>NaN</td>\n",
       "      <td>DT</td>\n",
       "      <td>NaN</td>\n",
       "    </tr>\n",
       "    <tr>\n",
       "      <th>2</th>\n",
       "      <td>2300906-002</td>\n",
       "      <td>2300906002</td>\n",
       "      <td>23</td>\n",
       "      <td>3</td>\n",
       "      <td>RXR</td>\n",
       "      <td>2300906</td>\n",
       "      <td>G</td>\n",
       "      <td>DBP SAMPLE LOCATION</td>\n",
       "      <td>NaN</td>\n",
       "      <td>DT</td>\n",
       "      <td>NaN</td>\n",
       "    </tr>\n",
       "    <tr>\n",
       "      <th>3</th>\n",
       "      <td>2310006-030</td>\n",
       "      <td>2310006030</td>\n",
       "      <td>23</td>\n",
       "      <td>3</td>\n",
       "      <td>RXR</td>\n",
       "      <td>2310006</td>\n",
       "      <td>G</td>\n",
       "      <td>DBP 781 TOKAY DRIVE</td>\n",
       "      <td>NaN</td>\n",
       "      <td>DT</td>\n",
       "      <td>NaN</td>\n",
       "    </tr>\n",
       "    <tr>\n",
       "      <th>4</th>\n",
       "      <td>2300955-001</td>\n",
       "      <td>2300955001</td>\n",
       "      <td>23</td>\n",
       "      <td>3</td>\n",
       "      <td>RXR</td>\n",
       "      <td>2300955</td>\n",
       "      <td>G</td>\n",
       "      <td>WELL 01</td>\n",
       "      <td>NaN</td>\n",
       "      <td>AR</td>\n",
       "      <td>NaN</td>\n",
       "    </tr>\n",
       "  </tbody>\n",
       "</table>\n",
       "</div>"
      ],
      "text/plain": [
       "     PRI_STA_C     FRDS_NO  COUNTY  DISTRICT USER_ID  SYSTEM_NO WATER_TYPE  \\\n",
       "0  4301014-001  4301014001      43        17     SAN    4301014          G   \n",
       "1  4301014-002  4301014002      43        17     SAN    4301014          G   \n",
       "2  2300906-002  2300906002      23         3     RXR    2300906          G   \n",
       "3  2310006-030  2310006030      23         3     RXR    2310006          G   \n",
       "4  2300955-001  2300955001      23         3     RXR    2300955          G   \n",
       "\n",
       "               SOURCE_NAM STATION_TY STATUS COMMENT_1  \n",
       "0       WELL 01 - TREATED        NaN     AT       NaN  \n",
       "1  WELL 01- CL2 TREATMENT        NaN     DT       NaN  \n",
       "2     DBP SAMPLE LOCATION        NaN     DT       NaN  \n",
       "3     DBP 781 TOKAY DRIVE        NaN     DT       NaN  \n",
       "4                 WELL 01        NaN     AR       NaN  "
      ]
     },
     "execution_count": 9,
     "metadata": {},
     "output_type": "execute_result"
    }
   ],
   "source": [
    "print(raw_drinksite.shape)\n",
    "raw_drinksite.head()"
   ]
  },
  {
   "cell_type": "code",
   "execution_count": null,
   "metadata": {},
   "outputs": [],
   "source": []
  },
  {
   "cell_type": "code",
   "execution_count": 7,
   "metadata": {},
   "outputs": [],
   "source": [
    "raw_gw = pd.read_csv('./assets/Groundwater/KernEDF.txt', sep='\\t')"
   ]
  },
  {
   "cell_type": "code",
   "execution_count": 8,
   "metadata": {},
   "outputs": [
    {
     "data": {
      "text/html": [
       "<div>\n",
       "<style scoped>\n",
       "    .dataframe tbody tr th:only-of-type {\n",
       "        vertical-align: middle;\n",
       "    }\n",
       "\n",
       "    .dataframe tbody tr th {\n",
       "        vertical-align: top;\n",
       "    }\n",
       "\n",
       "    .dataframe thead th {\n",
       "        text-align: right;\n",
       "    }\n",
       "</style>\n",
       "<table border=\"1\" class=\"dataframe\">\n",
       "  <thead>\n",
       "    <tr style=\"text-align: right;\">\n",
       "      <th></th>\n",
       "      <th>COUNTY</th>\n",
       "      <th>GLOBAL_ID</th>\n",
       "      <th>FIELD_PT_NAME</th>\n",
       "      <th>LOGDATE</th>\n",
       "      <th>LOGTIME</th>\n",
       "      <th>LOGCODE</th>\n",
       "      <th>SAMPID</th>\n",
       "      <th>MATRIX</th>\n",
       "      <th>LABWO</th>\n",
       "      <th>LABCODE</th>\n",
       "      <th>...</th>\n",
       "      <th>ANADATE</th>\n",
       "      <th>BASIS</th>\n",
       "      <th>PARLABEL</th>\n",
       "      <th>PARVAL</th>\n",
       "      <th>PARVQ</th>\n",
       "      <th>LABDL</th>\n",
       "      <th>REPDL</th>\n",
       "      <th>UNITS</th>\n",
       "      <th>DILFAC</th>\n",
       "      <th>LNOTE</th>\n",
       "    </tr>\n",
       "  </thead>\n",
       "  <tbody>\n",
       "    <tr>\n",
       "      <th>0</th>\n",
       "      <td>Kern</td>\n",
       "      <td>GAGW10000018</td>\n",
       "      <td>NCL-2-02</td>\n",
       "      <td>2014-11-21</td>\n",
       "      <td>930.0</td>\n",
       "      <td>BTSC</td>\n",
       "      <td>NCL-2-02</td>\n",
       "      <td>W</td>\n",
       "      <td>94042-1</td>\n",
       "      <td>TAIC</td>\n",
       "      <td>...</td>\n",
       "      <td>2014-11-25</td>\n",
       "      <td>N</td>\n",
       "      <td>BZ</td>\n",
       "      <td>0.000</td>\n",
       "      <td>ND</td>\n",
       "      <td>0.250</td>\n",
       "      <td>2.0</td>\n",
       "      <td>UG/L</td>\n",
       "      <td>1.0</td>\n",
       "      <td>NaN</td>\n",
       "    </tr>\n",
       "    <tr>\n",
       "      <th>1</th>\n",
       "      <td>Kern</td>\n",
       "      <td>GAGW10000018</td>\n",
       "      <td>NCL-2-02</td>\n",
       "      <td>2014-11-21</td>\n",
       "      <td>930.0</td>\n",
       "      <td>BTSC</td>\n",
       "      <td>NCL-2-02</td>\n",
       "      <td>W</td>\n",
       "      <td>94042-1</td>\n",
       "      <td>TAIC</td>\n",
       "      <td>...</td>\n",
       "      <td>2014-11-25</td>\n",
       "      <td>N</td>\n",
       "      <td>XYLO</td>\n",
       "      <td>0.000</td>\n",
       "      <td>ND</td>\n",
       "      <td>0.250</td>\n",
       "      <td>2.0</td>\n",
       "      <td>UG/L</td>\n",
       "      <td>1.0</td>\n",
       "      <td>NaN</td>\n",
       "    </tr>\n",
       "    <tr>\n",
       "      <th>2</th>\n",
       "      <td>Kern</td>\n",
       "      <td>GAGW10000018</td>\n",
       "      <td>NCL-2-02</td>\n",
       "      <td>2014-11-21</td>\n",
       "      <td>930.0</td>\n",
       "      <td>BTSC</td>\n",
       "      <td>NCL-2-02</td>\n",
       "      <td>W</td>\n",
       "      <td>94042-1</td>\n",
       "      <td>TAIC</td>\n",
       "      <td>...</td>\n",
       "      <td>2014-12-23</td>\n",
       "      <td>N</td>\n",
       "      <td>RA226228</td>\n",
       "      <td>0.691</td>\n",
       "      <td>=</td>\n",
       "      <td>0.377</td>\n",
       "      <td>5.0</td>\n",
       "      <td>PCI/L</td>\n",
       "      <td>1.0</td>\n",
       "      <td>NaN</td>\n",
       "    </tr>\n",
       "    <tr>\n",
       "      <th>3</th>\n",
       "      <td>Kern</td>\n",
       "      <td>GAGW10000018</td>\n",
       "      <td>NCL-28E4</td>\n",
       "      <td>2014-09-12</td>\n",
       "      <td>1000.0</td>\n",
       "      <td>BTSC</td>\n",
       "      <td>NCL-28E4</td>\n",
       "      <td>W</td>\n",
       "      <td>88029-1</td>\n",
       "      <td>TAIC</td>\n",
       "      <td>...</td>\n",
       "      <td>2014-09-13</td>\n",
       "      <td>N</td>\n",
       "      <td>HCO3</td>\n",
       "      <td>0.000</td>\n",
       "      <td>ND</td>\n",
       "      <td>4.800</td>\n",
       "      <td>4.8</td>\n",
       "      <td>MG/L</td>\n",
       "      <td>1.0</td>\n",
       "      <td>NaN</td>\n",
       "    </tr>\n",
       "    <tr>\n",
       "      <th>4</th>\n",
       "      <td>Kern</td>\n",
       "      <td>GAGW10000018</td>\n",
       "      <td>NCL-2-02</td>\n",
       "      <td>2016-05-10</td>\n",
       "      <td>908.0</td>\n",
       "      <td>BTST</td>\n",
       "      <td>Monitoring Well #2-02</td>\n",
       "      <td>W</td>\n",
       "      <td>NaN</td>\n",
       "      <td>BCLB</td>\n",
       "      <td>...</td>\n",
       "      <td>2016-05-17</td>\n",
       "      <td>N</td>\n",
       "      <td>CR</td>\n",
       "      <td>1.600</td>\n",
       "      <td>=</td>\n",
       "      <td>1.100</td>\n",
       "      <td>10.0</td>\n",
       "      <td>UG/L</td>\n",
       "      <td>1.0</td>\n",
       "      <td>J,DX</td>\n",
       "    </tr>\n",
       "  </tbody>\n",
       "</table>\n",
       "<p>5 rows × 23 columns</p>\n",
       "</div>"
      ],
      "text/plain": [
       "  COUNTY     GLOBAL_ID FIELD_PT_NAME     LOGDATE  LOGTIME LOGCODE  \\\n",
       "0   Kern  GAGW10000018      NCL-2-02  2014-11-21    930.0    BTSC   \n",
       "1   Kern  GAGW10000018      NCL-2-02  2014-11-21    930.0    BTSC   \n",
       "2   Kern  GAGW10000018      NCL-2-02  2014-11-21    930.0    BTSC   \n",
       "3   Kern  GAGW10000018      NCL-28E4  2014-09-12   1000.0    BTSC   \n",
       "4   Kern  GAGW10000018      NCL-2-02  2016-05-10    908.0    BTST   \n",
       "\n",
       "                  SAMPID MATRIX   LABWO  LABCODE  ...       ANADATE BASIS  \\\n",
       "0               NCL-2-02      W  94042-1    TAIC  ...    2014-11-25     N   \n",
       "1               NCL-2-02      W  94042-1    TAIC  ...    2014-11-25     N   \n",
       "2               NCL-2-02      W  94042-1    TAIC  ...    2014-12-23     N   \n",
       "3               NCL-28E4      W  88029-1    TAIC  ...    2014-09-13     N   \n",
       "4  Monitoring Well #2-02      W      NaN    BCLB  ...    2016-05-17     N   \n",
       "\n",
       "   PARLABEL PARVAL PARVQ  LABDL  REPDL  UNITS  DILFAC  LNOTE  \n",
       "0        BZ  0.000    ND  0.250    2.0   UG/L     1.0    NaN  \n",
       "1      XYLO  0.000    ND  0.250    2.0   UG/L     1.0    NaN  \n",
       "2  RA226228  0.691     =  0.377    5.0  PCI/L     1.0    NaN  \n",
       "3      HCO3  0.000    ND  4.800    4.8   MG/L     1.0    NaN  \n",
       "4        CR  1.600     =  1.100   10.0   UG/L     1.0   J,DX  \n",
       "\n",
       "[5 rows x 23 columns]"
      ]
     },
     "execution_count": 8,
     "metadata": {},
     "output_type": "execute_result"
    }
   ],
   "source": [
    "raw_gw.head()"
   ]
  },
  {
   "cell_type": "code",
   "execution_count": 18,
   "metadata": {},
   "outputs": [
    {
     "data": {
      "text/plain": [
       "Index(['COUNTY', 'GLOBAL_ID', 'FIELD_PT_NAME', 'LOGDATE', 'LOGTIME', 'LOGCODE',\n",
       "       'SAMPID', 'MATRIX', 'LABWO ', 'LABCODE', 'LABSAMPID', 'ANMCODE',\n",
       "       'LABLOTCTL', 'ANADATE', 'BASIS', 'PARLABEL', 'PARVAL', 'PARVQ', 'LABDL',\n",
       "       'REPDL', 'UNITS', 'DILFAC', 'LNOTE'],\n",
       "      dtype='object')"
      ]
     },
     "execution_count": 18,
     "metadata": {},
     "output_type": "execute_result"
    }
   ],
   "source": [
    "raw_gw.columns"
   ]
  },
  {
   "cell_type": "code",
   "execution_count": 19,
   "metadata": {},
   "outputs": [
    {
     "data": {
      "text/plain": [
       "array(['2014-11-21', '2014-09-12', '2016-05-10', ..., '2006-06-30',\n",
       "       '2013-06-12', nan], dtype=object)"
      ]
     },
     "execution_count": 19,
     "metadata": {},
     "output_type": "execute_result"
    }
   ],
   "source": [
    "raw_gw['LOGDATE'].unique()"
   ]
  },
  {
   "cell_type": "code",
   "execution_count": 36,
   "metadata": {},
   "outputs": [
    {
     "data": {
      "text/plain": [
       "array(['NCL-2-02', 'NCL-28E4', 'QCTB', ..., 'A2-SW16', 'OW-21', nan],\n",
       "      dtype=object)"
      ]
     },
     "execution_count": 36,
     "metadata": {},
     "output_type": "execute_result"
    }
   ],
   "source": [
    "raw_gw['FIELD_PT_NAME'].unique()"
   ]
  },
  {
   "cell_type": "code",
   "execution_count": null,
   "metadata": {},
   "outputs": [],
   "source": []
  },
  {
   "cell_type": "code",
   "execution_count": null,
   "metadata": {},
   "outputs": [],
   "source": []
  },
  {
   "cell_type": "code",
   "execution_count": 27,
   "metadata": {},
   "outputs": [],
   "source": [
    "raw_gw_loc = pd.read_excel('./assets/Groundwater/gama_location_kern_county.xlsx')"
   ]
  },
  {
   "cell_type": "code",
   "execution_count": 28,
   "metadata": {},
   "outputs": [
    {
     "data": {
      "text/plain": [
       "(1050, 5)"
      ]
     },
     "execution_count": 28,
     "metadata": {},
     "output_type": "execute_result"
    }
   ],
   "source": [
    "raw_gw_loc.shape"
   ]
  },
  {
   "cell_type": "code",
   "execution_count": 29,
   "metadata": {},
   "outputs": [
    {
     "data": {
      "text/html": [
       "<div>\n",
       "<style scoped>\n",
       "    .dataframe tbody tr th:only-of-type {\n",
       "        vertical-align: middle;\n",
       "    }\n",
       "\n",
       "    .dataframe tbody tr th {\n",
       "        vertical-align: top;\n",
       "    }\n",
       "\n",
       "    .dataframe thead th {\n",
       "        text-align: right;\n",
       "    }\n",
       "</style>\n",
       "<table border=\"1\" class=\"dataframe\">\n",
       "  <thead>\n",
       "    <tr style=\"text-align: right;\">\n",
       "      <th></th>\n",
       "      <th>DATASET</th>\n",
       "      <th>WELL ID</th>\n",
       "      <th>WELL NAME</th>\n",
       "      <th>LATITUDE</th>\n",
       "      <th>LONGITUDE</th>\n",
       "    </tr>\n",
       "  </thead>\n",
       "  <tbody>\n",
       "    <tr>\n",
       "      <th>0</th>\n",
       "      <td>USGSNEW</td>\n",
       "      <td>USGS-345733118085201</td>\n",
       "      <td>USGS-345733118085201</td>\n",
       "      <td>34.959140</td>\n",
       "      <td>-118.148686</td>\n",
       "    </tr>\n",
       "    <tr>\n",
       "      <th>1</th>\n",
       "      <td>USGSNEW</td>\n",
       "      <td>USGS-351824117570101</td>\n",
       "      <td>USGS-351824117570101</td>\n",
       "      <td>35.306628</td>\n",
       "      <td>-117.951180</td>\n",
       "    </tr>\n",
       "    <tr>\n",
       "      <th>2</th>\n",
       "      <td>DHS</td>\n",
       "      <td>W0601502244</td>\n",
       "      <td>1502244-001</td>\n",
       "      <td>35.602611</td>\n",
       "      <td>-119.507496</td>\n",
       "    </tr>\n",
       "    <tr>\n",
       "      <th>3</th>\n",
       "      <td>DHS</td>\n",
       "      <td>W0601503431</td>\n",
       "      <td>1503431-003</td>\n",
       "      <td>35.715251</td>\n",
       "      <td>-119.427021</td>\n",
       "    </tr>\n",
       "    <tr>\n",
       "      <th>4</th>\n",
       "      <td>DHS</td>\n",
       "      <td>W0601510302</td>\n",
       "      <td>1510302-001</td>\n",
       "      <td>35.332059</td>\n",
       "      <td>-119.362728</td>\n",
       "    </tr>\n",
       "  </tbody>\n",
       "</table>\n",
       "</div>"
      ],
      "text/plain": [
       "   DATASET               WELL ID             WELL NAME   LATITUDE   LONGITUDE\n",
       "0  USGSNEW  USGS-345733118085201  USGS-345733118085201  34.959140 -118.148686\n",
       "1  USGSNEW  USGS-351824117570101  USGS-351824117570101  35.306628 -117.951180\n",
       "2      DHS           W0601502244           1502244-001  35.602611 -119.507496\n",
       "3      DHS           W0601503431           1503431-003  35.715251 -119.427021\n",
       "4      DHS           W0601510302           1510302-001  35.332059 -119.362728"
      ]
     },
     "execution_count": 29,
     "metadata": {},
     "output_type": "execute_result"
    }
   ],
   "source": [
    "raw_gw_loc.head()"
   ]
  },
  {
   "cell_type": "code",
   "execution_count": 35,
   "metadata": {},
   "outputs": [
    {
     "data": {
      "text/plain": [
       "array(['USGS-345733118085201', 'USGS-351824117570101', '1502244-001', ...,\n",
       "       '1510703-003', '1510703-001', '1502608-001'], dtype=object)"
      ]
     },
     "execution_count": 35,
     "metadata": {},
     "output_type": "execute_result"
    }
   ],
   "source": [
    "raw_gw_loc['WELL NAME'].unique()"
   ]
  },
  {
   "cell_type": "code",
   "execution_count": null,
   "metadata": {},
   "outputs": [],
   "source": []
  }
 ],
 "metadata": {
  "kernelspec": {
   "display_name": "Python [conda env:dsi]",
   "language": "python",
   "name": "conda-env-dsi-py"
  },
  "language_info": {
   "codemirror_mode": {
    "name": "ipython",
    "version": 3
   },
   "file_extension": ".py",
   "mimetype": "text/x-python",
   "name": "python",
   "nbconvert_exporter": "python",
   "pygments_lexer": "ipython3",
   "version": "3.6.5"
  }
 },
 "nbformat": 4,
 "nbformat_minor": 2
}
